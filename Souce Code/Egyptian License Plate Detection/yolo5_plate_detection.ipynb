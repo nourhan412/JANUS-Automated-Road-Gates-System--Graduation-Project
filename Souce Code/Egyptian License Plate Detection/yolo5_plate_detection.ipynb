{
  "metadata": {
    "kernelspec": {
      "language": "python",
      "display_name": "Python 3",
      "name": "python3"
    },
    "language_info": {
      "name": "python",
      "version": "3.7.12",
      "mimetype": "text/x-python",
      "codemirror_mode": {
        "name": "ipython",
        "version": 3
      },
      "pygments_lexer": "ipython3",
      "nbconvert_exporter": "python",
      "file_extension": ".py"
    },
    "colab": {
      "provenance": []
    }
  },
  "nbformat_minor": 0,
  "nbformat": 4,
  "cells": [
    {
      "cell_type": "code",
      "source": [
        "!git clone https://github.com/ahmedramadan96/EALPR.git"
      ],
      "metadata": {
        "execution": {
          "iopub.status.busy": "2023-02-01T16:04:12.064423Z",
          "iopub.execute_input": "2023-02-01T16:04:12.065437Z",
          "iopub.status.idle": "2023-02-01T16:04:25.776136Z",
          "shell.execute_reply.started": "2023-02-01T16:04:12.065327Z",
          "shell.execute_reply": "2023-02-01T16:04:25.774887Z"
        },
        "trusted": true,
        "id": "vkdS-IGvsDlF",
        "outputId": "ada50462-99e4-42e6-f262-3f2d32e24116"
      },
      "execution_count": null,
      "outputs": [
        {
          "name": "stdout",
          "text": "Cloning into 'EALPR'...\nremote: Enumerating objects: 18740, done.\u001b[K\nremote: Counting objects: 100% (12906/12906), done.\u001b[K\nremote: Compressing objects: 100% (12903/12903), done.\u001b[K\nremote: Total 18740 (delta 12), reused 12892 (delta 3), pack-reused 5834\nReceiving objects: 100% (18740/18740), 273.19 MiB | 35.88 MiB/s, done.\nResolving deltas: 100% (32/32), done.\nUpdating files: 100% (18735/18735), done.\n",
          "output_type": "stream"
        }
      ]
    },
    {
      "cell_type": "code",
      "source": [
        "import os\n",
        "import pandas as pd"
      ],
      "metadata": {
        "execution": {
          "iopub.status.busy": "2023-02-01T16:04:25.778354Z",
          "iopub.execute_input": "2023-02-01T16:04:25.778755Z",
          "iopub.status.idle": "2023-02-01T16:04:25.785171Z",
          "shell.execute_reply.started": "2023-02-01T16:04:25.778711Z",
          "shell.execute_reply": "2023-02-01T16:04:25.784130Z"
        },
        "trusted": true,
        "id": "-wQX9BkYsDlH"
      },
      "execution_count": null,
      "outputs": []
    },
    {
      "cell_type": "code",
      "source": [
        "path = 'EALPR/EALPR Vechicles dataset/Vehicles Labeling'\n",
        "labels_dict = dict(filepath=[],center_x=[],center_y=[],bb_w=[],bb_h=[])\n",
        "for filename in os.listdir(path):\n",
        "    filePath=path+\"/\"+filename\n",
        "    with open(filePath) as cur:\n",
        "        info = cur.readline()\n",
        "        info=info.split()\n",
        "        if len(info)<5:\n",
        "            continue\n",
        "        labels_dict['filepath'].append(filePath)\n",
        "        labels_dict['center_x'].append(float(info[1]))    # center x of the bounding box\n",
        "        labels_dict['center_y'].append(float(info[2]))   # center y of the bounding box\n",
        "        labels_dict['bb_w'].append(float(info[3]))    # weight of bounding box\n",
        "        labels_dict['bb_h'].append(float(info[4]))   # height of bounding box\n",
        "        cur.close()"
      ],
      "metadata": {
        "execution": {
          "iopub.status.busy": "2023-02-01T16:04:25.786815Z",
          "iopub.execute_input": "2023-02-01T16:04:25.787148Z",
          "iopub.status.idle": "2023-02-01T16:04:25.853620Z",
          "shell.execute_reply.started": "2023-02-01T16:04:25.787114Z",
          "shell.execute_reply": "2023-02-01T16:04:25.852667Z"
        },
        "trusted": true,
        "id": "-LmlwV0usDlH"
      },
      "execution_count": null,
      "outputs": []
    },
    {
      "cell_type": "code",
      "source": [
        "df = pd.DataFrame(labels_dict)\n",
        "df.to_csv('vehicles_labels.csv',index=False)\n",
        "df.head()"
      ],
      "metadata": {
        "execution": {
          "iopub.status.busy": "2023-02-01T16:04:25.856220Z",
          "iopub.execute_input": "2023-02-01T16:04:25.856774Z",
          "iopub.status.idle": "2023-02-01T16:04:25.903896Z",
          "shell.execute_reply.started": "2023-02-01T16:04:25.856730Z",
          "shell.execute_reply": "2023-02-01T16:04:25.902910Z"
        },
        "trusted": true,
        "id": "l1jsi4GRsDlI",
        "outputId": "d126e113-afab-49fd-9d5f-1d9f356f7426"
      },
      "execution_count": null,
      "outputs": [
        {
          "execution_count": 4,
          "output_type": "execute_result",
          "data": {
            "text/plain": "                                            filepath  center_x  center_y  \\\n0  EALPR/EALPR Vechicles dataset/Vehicles Labelin...  0.533618  0.839026   \n1  EALPR/EALPR Vechicles dataset/Vehicles Labelin...  0.522656  0.342708   \n2  EALPR/EALPR Vechicles dataset/Vehicles Labelin...  0.471296  0.481771   \n3  EALPR/EALPR Vechicles dataset/Vehicles Labelin...  0.500463  0.476936   \n4  EALPR/EALPR Vechicles dataset/Vehicles Labelin...  0.485556  0.627556   \n\n       bb_w      bb_h  \n0  0.108858  0.048676  \n1  0.142187  0.106250  \n2  0.557407  0.163542  \n3  0.130556  0.120264  \n4  0.164444  0.069333  ",
            "text/html": "<div>\n<style scoped>\n    .dataframe tbody tr th:only-of-type {\n        vertical-align: middle;\n    }\n\n    .dataframe tbody tr th {\n        vertical-align: top;\n    }\n\n    .dataframe thead th {\n        text-align: right;\n    }\n</style>\n<table border=\"1\" class=\"dataframe\">\n  <thead>\n    <tr style=\"text-align: right;\">\n      <th></th>\n      <th>filepath</th>\n      <th>center_x</th>\n      <th>center_y</th>\n      <th>bb_w</th>\n      <th>bb_h</th>\n    </tr>\n  </thead>\n  <tbody>\n    <tr>\n      <th>0</th>\n      <td>EALPR/EALPR Vechicles dataset/Vehicles Labelin...</td>\n      <td>0.533618</td>\n      <td>0.839026</td>\n      <td>0.108858</td>\n      <td>0.048676</td>\n    </tr>\n    <tr>\n      <th>1</th>\n      <td>EALPR/EALPR Vechicles dataset/Vehicles Labelin...</td>\n      <td>0.522656</td>\n      <td>0.342708</td>\n      <td>0.142187</td>\n      <td>0.106250</td>\n    </tr>\n    <tr>\n      <th>2</th>\n      <td>EALPR/EALPR Vechicles dataset/Vehicles Labelin...</td>\n      <td>0.471296</td>\n      <td>0.481771</td>\n      <td>0.557407</td>\n      <td>0.163542</td>\n    </tr>\n    <tr>\n      <th>3</th>\n      <td>EALPR/EALPR Vechicles dataset/Vehicles Labelin...</td>\n      <td>0.500463</td>\n      <td>0.476936</td>\n      <td>0.130556</td>\n      <td>0.120264</td>\n    </tr>\n    <tr>\n      <th>4</th>\n      <td>EALPR/EALPR Vechicles dataset/Vehicles Labelin...</td>\n      <td>0.485556</td>\n      <td>0.627556</td>\n      <td>0.164444</td>\n      <td>0.069333</td>\n    </tr>\n  </tbody>\n</table>\n</div>"
          },
          "metadata": {}
        }
      ]
    },
    {
      "cell_type": "code",
      "source": [
        "df['filepath'][0]"
      ],
      "metadata": {
        "execution": {
          "iopub.status.busy": "2023-02-01T16:04:25.907316Z",
          "iopub.execute_input": "2023-02-01T16:04:25.907628Z",
          "iopub.status.idle": "2023-02-01T16:04:25.921763Z",
          "shell.execute_reply.started": "2023-02-01T16:04:25.907599Z",
          "shell.execute_reply": "2023-02-01T16:04:25.920588Z"
        },
        "trusted": true,
        "id": "8pWhCNoFsDlI",
        "outputId": "1b264665-2cb3-462c-f659-119acafaae8b"
      },
      "execution_count": null,
      "outputs": [
        {
          "execution_count": 5,
          "output_type": "execute_result",
          "data": {
            "text/plain": "'EALPR/EALPR Vechicles dataset/Vehicles Labeling/0465.txt'"
          },
          "metadata": {}
        }
      ]
    },
    {
      "cell_type": "code",
      "source": [
        "def find_files(filename, search_path):\n",
        "    result = []\n",
        "# Wlaking top-down from the root\n",
        "    for root, dir, files in os.walk(search_path):\n",
        "         if filename in files:\n",
        "                result.append(os.path.join(root, filename))\n",
        "    return result"
      ],
      "metadata": {
        "execution": {
          "iopub.status.busy": "2023-02-01T16:04:25.924537Z",
          "iopub.execute_input": "2023-02-01T16:04:25.925162Z",
          "iopub.status.idle": "2023-02-01T16:04:25.932675Z",
          "shell.execute_reply.started": "2023-02-01T16:04:25.925124Z",
          "shell.execute_reply": "2023-02-01T16:04:25.931439Z"
        },
        "trusted": true,
        "id": "NXvHMk2IsDlI"
      },
      "execution_count": null,
      "outputs": []
    },
    {
      "cell_type": "code",
      "source": [
        "filename = df['filepath'][0]\n",
        "def getFilename(filename):\n",
        "    filename_image =filename.split('/')[3].split('.')[0]+'.jpg'\n",
        "    if len(find_files(filename_image,'EALPR/EALPR Vechicles dataset/Vehicles'))==0:\n",
        "        filename_image =filename.split('/')[3].split('.')[0]+'.JPG'\n",
        "    if len(find_files(filename_image,'EALPR/EALPR Vechicles dataset/Vehicles'))==0:\n",
        "        filename_image =filename.split('/')[3].split('.')[0]+'.jpeg'\n",
        "    filepath_image = os.path.join('EALPR/EALPR Vechicles dataset/Vehicles',filename_image)\n",
        "    return filepath_image\n",
        "print(getFilename(filename))"
      ],
      "metadata": {
        "execution": {
          "iopub.status.busy": "2023-02-01T16:04:25.934492Z",
          "iopub.execute_input": "2023-02-01T16:04:25.935294Z",
          "iopub.status.idle": "2023-02-01T16:04:25.950916Z",
          "shell.execute_reply.started": "2023-02-01T16:04:25.935243Z",
          "shell.execute_reply": "2023-02-01T16:04:25.949657Z"
        },
        "trusted": true,
        "id": "BXQ-qp6bsDlI",
        "outputId": "9b1edba8-3c38-496e-a060-0ea7b21e5fa7"
      },
      "execution_count": null,
      "outputs": [
        {
          "name": "stdout",
          "text": "EALPR/EALPR Vechicles dataset/Vehicles/0465.jpg\n",
          "output_type": "stream"
        }
      ]
    },
    {
      "cell_type": "code",
      "source": [
        "df['filename']= list(df['filepath'].apply(getFilename))"
      ],
      "metadata": {
        "execution": {
          "iopub.status.busy": "2023-02-01T16:04:25.952503Z",
          "iopub.execute_input": "2023-02-01T16:04:25.952895Z",
          "iopub.status.idle": "2023-02-01T16:04:35.877856Z",
          "shell.execute_reply.started": "2023-02-01T16:04:25.952859Z",
          "shell.execute_reply": "2023-02-01T16:04:35.876902Z"
        },
        "trusted": true,
        "id": "nDYcMxg_sDlJ"
      },
      "execution_count": null,
      "outputs": []
    },
    {
      "cell_type": "code",
      "source": [
        "df.head()"
      ],
      "metadata": {
        "execution": {
          "iopub.status.busy": "2023-02-01T16:04:35.879376Z",
          "iopub.execute_input": "2023-02-01T16:04:35.879735Z",
          "iopub.status.idle": "2023-02-01T16:04:35.893425Z",
          "shell.execute_reply.started": "2023-02-01T16:04:35.879696Z",
          "shell.execute_reply": "2023-02-01T16:04:35.891689Z"
        },
        "trusted": true,
        "id": "YXLImbMdsDlJ",
        "outputId": "37105541-c9d3-47d2-df3c-4e2418509f73"
      },
      "execution_count": null,
      "outputs": [
        {
          "execution_count": 9,
          "output_type": "execute_result",
          "data": {
            "text/plain": "                                            filepath  center_x  center_y  \\\n0  EALPR/EALPR Vechicles dataset/Vehicles Labelin...  0.533618  0.839026   \n1  EALPR/EALPR Vechicles dataset/Vehicles Labelin...  0.522656  0.342708   \n2  EALPR/EALPR Vechicles dataset/Vehicles Labelin...  0.471296  0.481771   \n3  EALPR/EALPR Vechicles dataset/Vehicles Labelin...  0.500463  0.476936   \n4  EALPR/EALPR Vechicles dataset/Vehicles Labelin...  0.485556  0.627556   \n\n       bb_w      bb_h                                         filename  \n0  0.108858  0.048676  EALPR/EALPR Vechicles dataset/Vehicles/0465.jpg  \n1  0.142187  0.106250  EALPR/EALPR Vechicles dataset/Vehicles/1290.jpg  \n2  0.557407  0.163542  EALPR/EALPR Vechicles dataset/Vehicles/0173.jpg  \n3  0.130556  0.120264  EALPR/EALPR Vechicles dataset/Vehicles/1288.jpg  \n4  0.164444  0.069333  EALPR/EALPR Vechicles dataset/Vehicles/1427.jpg  ",
            "text/html": "<div>\n<style scoped>\n    .dataframe tbody tr th:only-of-type {\n        vertical-align: middle;\n    }\n\n    .dataframe tbody tr th {\n        vertical-align: top;\n    }\n\n    .dataframe thead th {\n        text-align: right;\n    }\n</style>\n<table border=\"1\" class=\"dataframe\">\n  <thead>\n    <tr style=\"text-align: right;\">\n      <th></th>\n      <th>filepath</th>\n      <th>center_x</th>\n      <th>center_y</th>\n      <th>bb_w</th>\n      <th>bb_h</th>\n      <th>filename</th>\n    </tr>\n  </thead>\n  <tbody>\n    <tr>\n      <th>0</th>\n      <td>EALPR/EALPR Vechicles dataset/Vehicles Labelin...</td>\n      <td>0.533618</td>\n      <td>0.839026</td>\n      <td>0.108858</td>\n      <td>0.048676</td>\n      <td>EALPR/EALPR Vechicles dataset/Vehicles/0465.jpg</td>\n    </tr>\n    <tr>\n      <th>1</th>\n      <td>EALPR/EALPR Vechicles dataset/Vehicles Labelin...</td>\n      <td>0.522656</td>\n      <td>0.342708</td>\n      <td>0.142187</td>\n      <td>0.106250</td>\n      <td>EALPR/EALPR Vechicles dataset/Vehicles/1290.jpg</td>\n    </tr>\n    <tr>\n      <th>2</th>\n      <td>EALPR/EALPR Vechicles dataset/Vehicles Labelin...</td>\n      <td>0.471296</td>\n      <td>0.481771</td>\n      <td>0.557407</td>\n      <td>0.163542</td>\n      <td>EALPR/EALPR Vechicles dataset/Vehicles/0173.jpg</td>\n    </tr>\n    <tr>\n      <th>3</th>\n      <td>EALPR/EALPR Vechicles dataset/Vehicles Labelin...</td>\n      <td>0.500463</td>\n      <td>0.476936</td>\n      <td>0.130556</td>\n      <td>0.120264</td>\n      <td>EALPR/EALPR Vechicles dataset/Vehicles/1288.jpg</td>\n    </tr>\n    <tr>\n      <th>4</th>\n      <td>EALPR/EALPR Vechicles dataset/Vehicles Labelin...</td>\n      <td>0.485556</td>\n      <td>0.627556</td>\n      <td>0.164444</td>\n      <td>0.069333</td>\n      <td>EALPR/EALPR Vechicles dataset/Vehicles/1427.jpg</td>\n    </tr>\n  </tbody>\n</table>\n</div>"
          },
          "metadata": {}
        }
      ]
    },
    {
      "cell_type": "code",
      "source": [
        "df.drop(columns=['filepath'],inplace=True)\n",
        "df.head()"
      ],
      "metadata": {
        "execution": {
          "iopub.status.busy": "2023-02-01T16:04:35.900700Z",
          "iopub.execute_input": "2023-02-01T16:04:35.901154Z",
          "iopub.status.idle": "2023-02-01T16:04:35.919726Z",
          "shell.execute_reply.started": "2023-02-01T16:04:35.901118Z",
          "shell.execute_reply": "2023-02-01T16:04:35.918695Z"
        },
        "trusted": true,
        "id": "7CZLgYqFsDlJ",
        "outputId": "4cc4da9b-7a03-4511-cbdb-0859c948e7dd"
      },
      "execution_count": null,
      "outputs": [
        {
          "execution_count": 10,
          "output_type": "execute_result",
          "data": {
            "text/plain": "   center_x  center_y      bb_w      bb_h  \\\n0  0.533618  0.839026  0.108858  0.048676   \n1  0.522656  0.342708  0.142187  0.106250   \n2  0.471296  0.481771  0.557407  0.163542   \n3  0.500463  0.476936  0.130556  0.120264   \n4  0.485556  0.627556  0.164444  0.069333   \n\n                                          filename  \n0  EALPR/EALPR Vechicles dataset/Vehicles/0465.jpg  \n1  EALPR/EALPR Vechicles dataset/Vehicles/1290.jpg  \n2  EALPR/EALPR Vechicles dataset/Vehicles/0173.jpg  \n3  EALPR/EALPR Vechicles dataset/Vehicles/1288.jpg  \n4  EALPR/EALPR Vechicles dataset/Vehicles/1427.jpg  ",
            "text/html": "<div>\n<style scoped>\n    .dataframe tbody tr th:only-of-type {\n        vertical-align: middle;\n    }\n\n    .dataframe tbody tr th {\n        vertical-align: top;\n    }\n\n    .dataframe thead th {\n        text-align: right;\n    }\n</style>\n<table border=\"1\" class=\"dataframe\">\n  <thead>\n    <tr style=\"text-align: right;\">\n      <th></th>\n      <th>center_x</th>\n      <th>center_y</th>\n      <th>bb_w</th>\n      <th>bb_h</th>\n      <th>filename</th>\n    </tr>\n  </thead>\n  <tbody>\n    <tr>\n      <th>0</th>\n      <td>0.533618</td>\n      <td>0.839026</td>\n      <td>0.108858</td>\n      <td>0.048676</td>\n      <td>EALPR/EALPR Vechicles dataset/Vehicles/0465.jpg</td>\n    </tr>\n    <tr>\n      <th>1</th>\n      <td>0.522656</td>\n      <td>0.342708</td>\n      <td>0.142187</td>\n      <td>0.106250</td>\n      <td>EALPR/EALPR Vechicles dataset/Vehicles/1290.jpg</td>\n    </tr>\n    <tr>\n      <th>2</th>\n      <td>0.471296</td>\n      <td>0.481771</td>\n      <td>0.557407</td>\n      <td>0.163542</td>\n      <td>EALPR/EALPR Vechicles dataset/Vehicles/0173.jpg</td>\n    </tr>\n    <tr>\n      <th>3</th>\n      <td>0.500463</td>\n      <td>0.476936</td>\n      <td>0.130556</td>\n      <td>0.120264</td>\n      <td>EALPR/EALPR Vechicles dataset/Vehicles/1288.jpg</td>\n    </tr>\n    <tr>\n      <th>4</th>\n      <td>0.485556</td>\n      <td>0.627556</td>\n      <td>0.164444</td>\n      <td>0.069333</td>\n      <td>EALPR/EALPR Vechicles dataset/Vehicles/1427.jpg</td>\n    </tr>\n  </tbody>\n</table>\n</div>"
          },
          "metadata": {}
        }
      ]
    },
    {
      "cell_type": "code",
      "source": [
        "df=df[['filename','center_x','center_y','bb_w','bb_h']]\n",
        "df.head()"
      ],
      "metadata": {
        "execution": {
          "iopub.status.busy": "2023-02-01T16:04:35.921029Z",
          "iopub.execute_input": "2023-02-01T16:04:35.921549Z",
          "iopub.status.idle": "2023-02-01T16:04:35.937667Z",
          "shell.execute_reply.started": "2023-02-01T16:04:35.921514Z",
          "shell.execute_reply": "2023-02-01T16:04:35.936837Z"
        },
        "trusted": true,
        "id": "lunjFsiJsDlJ",
        "outputId": "ece5b650-3d15-4584-bab2-ba1156d45579"
      },
      "execution_count": null,
      "outputs": [
        {
          "execution_count": 11,
          "output_type": "execute_result",
          "data": {
            "text/plain": "                                          filename  center_x  center_y  \\\n0  EALPR/EALPR Vechicles dataset/Vehicles/0465.jpg  0.533618  0.839026   \n1  EALPR/EALPR Vechicles dataset/Vehicles/1290.jpg  0.522656  0.342708   \n2  EALPR/EALPR Vechicles dataset/Vehicles/0173.jpg  0.471296  0.481771   \n3  EALPR/EALPR Vechicles dataset/Vehicles/1288.jpg  0.500463  0.476936   \n4  EALPR/EALPR Vechicles dataset/Vehicles/1427.jpg  0.485556  0.627556   \n\n       bb_w      bb_h  \n0  0.108858  0.048676  \n1  0.142187  0.106250  \n2  0.557407  0.163542  \n3  0.130556  0.120264  \n4  0.164444  0.069333  ",
            "text/html": "<div>\n<style scoped>\n    .dataframe tbody tr th:only-of-type {\n        vertical-align: middle;\n    }\n\n    .dataframe tbody tr th {\n        vertical-align: top;\n    }\n\n    .dataframe thead th {\n        text-align: right;\n    }\n</style>\n<table border=\"1\" class=\"dataframe\">\n  <thead>\n    <tr style=\"text-align: right;\">\n      <th></th>\n      <th>filename</th>\n      <th>center_x</th>\n      <th>center_y</th>\n      <th>bb_w</th>\n      <th>bb_h</th>\n    </tr>\n  </thead>\n  <tbody>\n    <tr>\n      <th>0</th>\n      <td>EALPR/EALPR Vechicles dataset/Vehicles/0465.jpg</td>\n      <td>0.533618</td>\n      <td>0.839026</td>\n      <td>0.108858</td>\n      <td>0.048676</td>\n    </tr>\n    <tr>\n      <th>1</th>\n      <td>EALPR/EALPR Vechicles dataset/Vehicles/1290.jpg</td>\n      <td>0.522656</td>\n      <td>0.342708</td>\n      <td>0.142187</td>\n      <td>0.106250</td>\n    </tr>\n    <tr>\n      <th>2</th>\n      <td>EALPR/EALPR Vechicles dataset/Vehicles/0173.jpg</td>\n      <td>0.471296</td>\n      <td>0.481771</td>\n      <td>0.557407</td>\n      <td>0.163542</td>\n    </tr>\n    <tr>\n      <th>3</th>\n      <td>EALPR/EALPR Vechicles dataset/Vehicles/1288.jpg</td>\n      <td>0.500463</td>\n      <td>0.476936</td>\n      <td>0.130556</td>\n      <td>0.120264</td>\n    </tr>\n    <tr>\n      <th>4</th>\n      <td>EALPR/EALPR Vechicles dataset/Vehicles/1427.jpg</td>\n      <td>0.485556</td>\n      <td>0.627556</td>\n      <td>0.164444</td>\n      <td>0.069333</td>\n    </tr>\n  </tbody>\n</table>\n</div>"
          },
          "metadata": {}
        }
      ]
    },
    {
      "cell_type": "code",
      "source": [
        "df.shape"
      ],
      "metadata": {
        "execution": {
          "iopub.status.busy": "2023-02-01T16:04:35.938909Z",
          "iopub.execute_input": "2023-02-01T16:04:35.939333Z",
          "iopub.status.idle": "2023-02-01T16:04:35.945723Z",
          "shell.execute_reply.started": "2023-02-01T16:04:35.939296Z",
          "shell.execute_reply": "2023-02-01T16:04:35.944826Z"
        },
        "trusted": true,
        "id": "B9TmY1_wsDlK",
        "outputId": "f349f9f3-a6e9-400d-f503-b92a29a5b442"
      },
      "execution_count": null,
      "outputs": [
        {
          "execution_count": 12,
          "output_type": "execute_result",
          "data": {
            "text/plain": "(2087, 5)"
          },
          "metadata": {}
        }
      ]
    },
    {
      "cell_type": "code",
      "source": [
        "df_train = df.iloc[:1462] #train\n",
        "df_test = df.iloc[1462:] #test 30%"
      ],
      "metadata": {
        "execution": {
          "iopub.status.busy": "2023-02-01T16:04:35.947051Z",
          "iopub.execute_input": "2023-02-01T16:04:35.947667Z",
          "iopub.status.idle": "2023-02-01T16:04:35.954895Z",
          "shell.execute_reply.started": "2023-02-01T16:04:35.947610Z",
          "shell.execute_reply": "2023-02-01T16:04:35.953912Z"
        },
        "trusted": true,
        "id": "_oIKjLtEsDlK"
      },
      "execution_count": null,
      "outputs": []
    },
    {
      "cell_type": "markdown",
      "source": [
        "## I need to put the train images with their labels text files in a folder which i will call **train** and i should do the same for the **test** images\n",
        "\n",
        "## and then put these folders in a folder let's called it **data** and include with them file data.yaml file include the number of classes(1) and also   \n",
        "\n",
        "## the classes file which we already have!"
      ],
      "metadata": {
        "id": "61MBgaItsDlK"
      }
    },
    {
      "cell_type": "code",
      "source": [
        "!git clone https://github.com/ultralytics/yolov5"
      ],
      "metadata": {
        "execution": {
          "iopub.status.busy": "2023-02-01T16:04:35.956315Z",
          "iopub.execute_input": "2023-02-01T16:04:35.956880Z",
          "iopub.status.idle": "2023-02-01T16:04:38.878935Z",
          "shell.execute_reply.started": "2023-02-01T16:04:35.956847Z",
          "shell.execute_reply": "2023-02-01T16:04:38.877788Z"
        },
        "trusted": true,
        "id": "gNpx-tUssDlL",
        "outputId": "abc8e609-4d4c-4058-ac34-cebd20d0d021"
      },
      "execution_count": null,
      "outputs": [
        {
          "name": "stdout",
          "text": "Cloning into 'yolov5'...\nremote: Enumerating objects: 15002, done.\u001b[K\nremote: Total 15002 (delta 0), reused 0 (delta 0), pack-reused 15002\u001b[K\nReceiving objects: 100% (15002/15002), 14.08 MiB | 21.39 MiB/s, done.\nResolving deltas: 100% (10285/10285), done.\n",
          "output_type": "stream"
        }
      ]
    },
    {
      "cell_type": "code",
      "source": [
        "!pip install -r ./yolov5/requirements.txt\n",
        "\n"
      ],
      "metadata": {
        "execution": {
          "iopub.status.busy": "2023-02-01T16:04:38.881159Z",
          "iopub.execute_input": "2023-02-01T16:04:38.881559Z",
          "iopub.status.idle": "2023-02-01T16:04:50.376765Z",
          "shell.execute_reply.started": "2023-02-01T16:04:38.881518Z",
          "shell.execute_reply": "2023-02-01T16:04:50.375540Z"
        },
        "trusted": true,
        "id": "3Yc10ErisDlL",
        "outputId": "dfd16d1b-21a4-412b-a2c1-13fadd7b0c8e"
      },
      "execution_count": null,
      "outputs": [
        {
          "name": "stdout",
          "text": "Requirement already satisfied: gitpython in /opt/conda/lib/python3.7/site-packages (from -r ./yolov5/requirements.txt (line 5)) (3.1.27)\nRequirement already satisfied: ipython in /opt/conda/lib/python3.7/site-packages (from -r ./yolov5/requirements.txt (line 6)) (7.33.0)\nRequirement already satisfied: matplotlib>=3.2.2 in /opt/conda/lib/python3.7/site-packages (from -r ./yolov5/requirements.txt (line 7)) (3.5.2)\nRequirement already satisfied: numpy>=1.18.5 in /opt/conda/lib/python3.7/site-packages (from -r ./yolov5/requirements.txt (line 8)) (1.21.6)\nRequirement already satisfied: opencv-python>=4.1.1 in /opt/conda/lib/python3.7/site-packages (from -r ./yolov5/requirements.txt (line 9)) (4.5.4.60)\nRequirement already satisfied: Pillow>=7.1.2 in /opt/conda/lib/python3.7/site-packages (from -r ./yolov5/requirements.txt (line 10)) (9.1.1)\nRequirement already satisfied: psutil in /opt/conda/lib/python3.7/site-packages (from -r ./yolov5/requirements.txt (line 11)) (5.9.1)\nRequirement already satisfied: PyYAML>=5.3.1 in /opt/conda/lib/python3.7/site-packages (from -r ./yolov5/requirements.txt (line 12)) (6.0)\nRequirement already satisfied: requests>=2.23.0 in /opt/conda/lib/python3.7/site-packages (from -r ./yolov5/requirements.txt (line 13)) (2.28.1)\nRequirement already satisfied: scipy>=1.4.1 in /opt/conda/lib/python3.7/site-packages (from -r ./yolov5/requirements.txt (line 14)) (1.7.3)\nCollecting thop>=0.1.1\n  Downloading thop-0.1.1.post2209072238-py3-none-any.whl (15 kB)\nRequirement already satisfied: torch>=1.7.0 in /opt/conda/lib/python3.7/site-packages (from -r ./yolov5/requirements.txt (line 16)) (1.11.0)\nRequirement already satisfied: torchvision>=0.8.1 in /opt/conda/lib/python3.7/site-packages (from -r ./yolov5/requirements.txt (line 17)) (0.12.0)\nRequirement already satisfied: tqdm>=4.64.0 in /opt/conda/lib/python3.7/site-packages (from -r ./yolov5/requirements.txt (line 18)) (4.64.0)\nRequirement already satisfied: tensorboard>=2.4.1 in /opt/conda/lib/python3.7/site-packages (from -r ./yolov5/requirements.txt (line 22)) (2.6.0)\nRequirement already satisfied: pandas>=1.1.4 in /opt/conda/lib/python3.7/site-packages (from -r ./yolov5/requirements.txt (line 27)) (1.3.5)\nRequirement already satisfied: seaborn>=0.11.0 in /opt/conda/lib/python3.7/site-packages (from -r ./yolov5/requirements.txt (line 28)) (0.11.2)\nRequirement already satisfied: gitdb<5,>=4.0.1 in /opt/conda/lib/python3.7/site-packages (from gitpython->-r ./yolov5/requirements.txt (line 5)) (4.0.9)\nRequirement already satisfied: typing-extensions>=3.7.4.3 in /opt/conda/lib/python3.7/site-packages (from gitpython->-r ./yolov5/requirements.txt (line 5)) (4.1.1)\nRequirement already satisfied: jedi>=0.16 in /opt/conda/lib/python3.7/site-packages (from ipython->-r ./yolov5/requirements.txt (line 6)) (0.18.1)\nRequirement already satisfied: prompt-toolkit!=3.0.0,!=3.0.1,<3.1.0,>=2.0.0 in /opt/conda/lib/python3.7/site-packages (from ipython->-r ./yolov5/requirements.txt (line 6)) (3.0.30)\nRequirement already satisfied: pickleshare in /opt/conda/lib/python3.7/site-packages (from ipython->-r ./yolov5/requirements.txt (line 6)) (0.7.5)\nRequirement already satisfied: decorator in /opt/conda/lib/python3.7/site-packages (from ipython->-r ./yolov5/requirements.txt (line 6)) (5.1.1)\nRequirement already satisfied: matplotlib-inline in /opt/conda/lib/python3.7/site-packages (from ipython->-r ./yolov5/requirements.txt (line 6)) (0.1.3)\nRequirement already satisfied: pygments in /opt/conda/lib/python3.7/site-packages (from ipython->-r ./yolov5/requirements.txt (line 6)) (2.12.0)\nRequirement already satisfied: setuptools>=18.5 in /opt/conda/lib/python3.7/site-packages (from ipython->-r ./yolov5/requirements.txt (line 6)) (59.8.0)\nRequirement already satisfied: backcall in /opt/conda/lib/python3.7/site-packages (from ipython->-r ./yolov5/requirements.txt (line 6)) (0.2.0)\nRequirement already satisfied: traitlets>=4.2 in /opt/conda/lib/python3.7/site-packages (from ipython->-r ./yolov5/requirements.txt (line 6)) (5.3.0)\nRequirement already satisfied: pexpect>4.3 in /opt/conda/lib/python3.7/site-packages (from ipython->-r ./yolov5/requirements.txt (line 6)) (4.8.0)\nRequirement already satisfied: python-dateutil>=2.7 in /opt/conda/lib/python3.7/site-packages (from matplotlib>=3.2.2->-r ./yolov5/requirements.txt (line 7)) (2.8.2)\nRequirement already satisfied: fonttools>=4.22.0 in /opt/conda/lib/python3.7/site-packages (from matplotlib>=3.2.2->-r ./yolov5/requirements.txt (line 7)) (4.33.3)\nRequirement already satisfied: cycler>=0.10 in /opt/conda/lib/python3.7/site-packages (from matplotlib>=3.2.2->-r ./yolov5/requirements.txt (line 7)) (0.11.0)\nRequirement already satisfied: packaging>=20.0 in /opt/conda/lib/python3.7/site-packages (from matplotlib>=3.2.2->-r ./yolov5/requirements.txt (line 7)) (23.0)\nRequirement already satisfied: pyparsing>=2.2.1 in /opt/conda/lib/python3.7/site-packages (from matplotlib>=3.2.2->-r ./yolov5/requirements.txt (line 7)) (3.0.9)\nRequirement already satisfied: kiwisolver>=1.0.1 in /opt/conda/lib/python3.7/site-packages (from matplotlib>=3.2.2->-r ./yolov5/requirements.txt (line 7)) (1.4.3)\nRequirement already satisfied: urllib3<1.27,>=1.21.1 in /opt/conda/lib/python3.7/site-packages (from requests>=2.23.0->-r ./yolov5/requirements.txt (line 13)) (1.26.14)\nRequirement already satisfied: charset-normalizer<3,>=2 in /opt/conda/lib/python3.7/site-packages (from requests>=2.23.0->-r ./yolov5/requirements.txt (line 13)) (2.1.0)\nRequirement already satisfied: idna<4,>=2.5 in /opt/conda/lib/python3.7/site-packages (from requests>=2.23.0->-r ./yolov5/requirements.txt (line 13)) (3.3)\nRequirement already satisfied: certifi>=2017.4.17 in /opt/conda/lib/python3.7/site-packages (from requests>=2.23.0->-r ./yolov5/requirements.txt (line 13)) (2022.12.7)\nRequirement already satisfied: protobuf>=3.6.0 in /opt/conda/lib/python3.7/site-packages (from tensorboard>=2.4.1->-r ./yolov5/requirements.txt (line 22)) (3.20.3)\nRequirement already satisfied: werkzeug>=0.11.15 in /opt/conda/lib/python3.7/site-packages (from tensorboard>=2.4.1->-r ./yolov5/requirements.txt (line 22)) (2.2.2)\nRequirement already satisfied: absl-py>=0.4 in /opt/conda/lib/python3.7/site-packages (from tensorboard>=2.4.1->-r ./yolov5/requirements.txt (line 22)) (0.15.0)\nRequirement already satisfied: wheel>=0.26 in /opt/conda/lib/python3.7/site-packages (from tensorboard>=2.4.1->-r ./yolov5/requirements.txt (line 22)) (0.37.1)\nRequirement already satisfied: tensorboard-plugin-wit>=1.6.0 in /opt/conda/lib/python3.7/site-packages (from tensorboard>=2.4.1->-r ./yolov5/requirements.txt (line 22)) (1.8.1)\nRequirement already satisfied: grpcio>=1.24.3 in /opt/conda/lib/python3.7/site-packages (from tensorboard>=2.4.1->-r ./yolov5/requirements.txt (line 22)) (1.51.1)\nRequirement already satisfied: tensorboard-data-server<0.7.0,>=0.6.0 in /opt/conda/lib/python3.7/site-packages (from tensorboard>=2.4.1->-r ./yolov5/requirements.txt (line 22)) (0.6.1)\nRequirement already satisfied: google-auth-oauthlib<0.5,>=0.4.1 in /opt/conda/lib/python3.7/site-packages (from tensorboard>=2.4.1->-r ./yolov5/requirements.txt (line 22)) (0.4.6)\nRequirement already satisfied: google-auth<2,>=1.6.3 in /opt/conda/lib/python3.7/site-packages (from tensorboard>=2.4.1->-r ./yolov5/requirements.txt (line 22)) (1.35.0)\nRequirement already satisfied: markdown>=2.6.8 in /opt/conda/lib/python3.7/site-packages (from tensorboard>=2.4.1->-r ./yolov5/requirements.txt (line 22)) (3.3.7)\nRequirement already satisfied: pytz>=2017.3 in /opt/conda/lib/python3.7/site-packages (from pandas>=1.1.4->-r ./yolov5/requirements.txt (line 27)) (2022.1)\nRequirement already satisfied: six in /opt/conda/lib/python3.7/site-packages (from absl-py>=0.4->tensorboard>=2.4.1->-r ./yolov5/requirements.txt (line 22)) (1.15.0)\nRequirement already satisfied: smmap<6,>=3.0.1 in /opt/conda/lib/python3.7/site-packages (from gitdb<5,>=4.0.1->gitpython->-r ./yolov5/requirements.txt (line 5)) (3.0.5)\nRequirement already satisfied: pyasn1-modules>=0.2.1 in /opt/conda/lib/python3.7/site-packages (from google-auth<2,>=1.6.3->tensorboard>=2.4.1->-r ./yolov5/requirements.txt (line 22)) (0.2.7)\nRequirement already satisfied: rsa<5,>=3.1.4 in /opt/conda/lib/python3.7/site-packages (from google-auth<2,>=1.6.3->tensorboard>=2.4.1->-r ./yolov5/requirements.txt (line 22)) (4.8)\nRequirement already satisfied: cachetools<5.0,>=2.0.0 in /opt/conda/lib/python3.7/site-packages (from google-auth<2,>=1.6.3->tensorboard>=2.4.1->-r ./yolov5/requirements.txt (line 22)) (4.2.4)\nRequirement already satisfied: requests-oauthlib>=0.7.0 in /opt/conda/lib/python3.7/site-packages (from google-auth-oauthlib<0.5,>=0.4.1->tensorboard>=2.4.1->-r ./yolov5/requirements.txt (line 22)) (1.3.1)\nRequirement already satisfied: parso<0.9.0,>=0.8.0 in /opt/conda/lib/python3.7/site-packages (from jedi>=0.16->ipython->-r ./yolov5/requirements.txt (line 6)) (0.8.3)\nRequirement already satisfied: importlib-metadata>=4.4 in /opt/conda/lib/python3.7/site-packages (from markdown>=2.6.8->tensorboard>=2.4.1->-r ./yolov5/requirements.txt (line 22)) (6.0.0)\nRequirement already satisfied: ptyprocess>=0.5 in /opt/conda/lib/python3.7/site-packages (from pexpect>4.3->ipython->-r ./yolov5/requirements.txt (line 6)) (0.7.0)\nRequirement already satisfied: wcwidth in /opt/conda/lib/python3.7/site-packages (from prompt-toolkit!=3.0.0,!=3.0.1,<3.1.0,>=2.0.0->ipython->-r ./yolov5/requirements.txt (line 6)) (0.2.5)\nRequirement already satisfied: MarkupSafe>=2.1.1 in /opt/conda/lib/python3.7/site-packages (from werkzeug>=0.11.15->tensorboard>=2.4.1->-r ./yolov5/requirements.txt (line 22)) (2.1.2)\nRequirement already satisfied: zipp>=0.5 in /opt/conda/lib/python3.7/site-packages (from importlib-metadata>=4.4->markdown>=2.6.8->tensorboard>=2.4.1->-r ./yolov5/requirements.txt (line 22)) (3.8.0)\nRequirement already satisfied: pyasn1<0.5.0,>=0.4.6 in /opt/conda/lib/python3.7/site-packages (from pyasn1-modules>=0.2.1->google-auth<2,>=1.6.3->tensorboard>=2.4.1->-r ./yolov5/requirements.txt (line 22)) (0.4.8)\nRequirement already satisfied: oauthlib>=3.0.0 in /opt/conda/lib/python3.7/site-packages (from requests-oauthlib>=0.7.0->google-auth-oauthlib<0.5,>=0.4.1->tensorboard>=2.4.1->-r ./yolov5/requirements.txt (line 22)) (3.2.0)\nInstalling collected packages: thop\nSuccessfully installed thop-0.1.1.post2209072238\n\u001b[33mWARNING: Running pip as the 'root' user can result in broken permissions and conflicting behaviour with the system package manager. It is recommended to use a virtual environment instead: https://pip.pypa.io/warnings/venv\u001b[0m\u001b[33m\n\u001b[0m",
          "output_type": "stream"
        }
      ]
    },
    {
      "cell_type": "code",
      "source": [
        "path='./yolov5/data_images'\n",
        "os.mkdir(path)\n",
        "os.mkdir(path +'/train')\n",
        "os.mkdir(path+'/test')"
      ],
      "metadata": {
        "execution": {
          "iopub.status.busy": "2023-02-01T16:04:50.378805Z",
          "iopub.execute_input": "2023-02-01T16:04:50.379214Z",
          "iopub.status.idle": "2023-02-01T16:04:50.387833Z",
          "shell.execute_reply.started": "2023-02-01T16:04:50.379172Z",
          "shell.execute_reply": "2023-02-01T16:04:50.386700Z"
        },
        "trusted": true,
        "id": "eHCFaj0rsDlM"
      },
      "execution_count": null,
      "outputs": []
    },
    {
      "cell_type": "code",
      "source": [
        " df_train['filename'][0]"
      ],
      "metadata": {
        "execution": {
          "iopub.status.busy": "2023-02-01T16:04:50.390209Z",
          "iopub.execute_input": "2023-02-01T16:04:50.390478Z",
          "iopub.status.idle": "2023-02-01T16:04:50.402727Z",
          "shell.execute_reply.started": "2023-02-01T16:04:50.390453Z",
          "shell.execute_reply": "2023-02-01T16:04:50.401629Z"
        },
        "trusted": true,
        "id": "WrYurqM-sDlM",
        "outputId": "05918e10-0095-486e-b939-33ecb0dd43b9"
      },
      "execution_count": null,
      "outputs": [
        {
          "execution_count": 17,
          "output_type": "execute_result",
          "data": {
            "text/plain": "'EALPR/EALPR Vechicles dataset/Vehicles/0465.jpg'"
          },
          "metadata": {}
        }
      ]
    },
    {
      "cell_type": "code",
      "source": [
        "import shutil\n",
        "original_images=r'./EALPR/EALPR Vechicles dataset/Vehicles/'\n",
        "original_labels=r'./EALPR/EALPR Vechicles dataset/Vehicles Labeling/'\n",
        "target = r'./yolov5/data_images/train/'\n",
        "for x in df_train['filename']:\n",
        "    name=x.split('/')[3]\n",
        "    shutil.copyfile(str(original_images+name),str(target+name))\n",
        "    shutil.copyfile(str(original_labels+name.split('.')[0]+'.txt'),str(target+name.split('.')[0]+'.txt'))"
      ],
      "metadata": {
        "execution": {
          "iopub.status.busy": "2023-02-01T16:04:50.404582Z",
          "iopub.execute_input": "2023-02-01T16:04:50.405167Z",
          "iopub.status.idle": "2023-02-01T16:04:50.949304Z",
          "shell.execute_reply.started": "2023-02-01T16:04:50.405132Z",
          "shell.execute_reply": "2023-02-01T16:04:50.948350Z"
        },
        "trusted": true,
        "id": "WLY36sBusDlM"
      },
      "execution_count": null,
      "outputs": []
    },
    {
      "cell_type": "code",
      "source": [
        "import shutil\n",
        "original_images=r'./EALPR/EALPR Vechicles dataset/Vehicles/'\n",
        "original_labels=r'./EALPR/EALPR Vechicles dataset/Vehicles Labeling/'\n",
        "target = r'./yolov5/data_images/test/'\n",
        "for x in df_test['filename']:\n",
        "    name=x.split('/')[3]\n",
        "    shutil.copyfile(str(original_images+name),str(target+name))\n",
        "    shutil.copyfile(str(original_labels+name.split('.')[0]+'.txt'),str(target+name.split('.')[0]+'.txt'))"
      ],
      "metadata": {
        "execution": {
          "iopub.status.busy": "2023-02-01T16:04:50.951316Z",
          "iopub.execute_input": "2023-02-01T16:04:50.952246Z",
          "iopub.status.idle": "2023-02-01T16:04:51.179140Z",
          "shell.execute_reply.started": "2023-02-01T16:04:50.952177Z",
          "shell.execute_reply": "2023-02-01T16:04:51.178095Z"
        },
        "trusted": true,
        "id": "XeJPHCCVsDlM"
      },
      "execution_count": null,
      "outputs": []
    },
    {
      "cell_type": "code",
      "source": [
        "os.listdir('yolov5/')"
      ],
      "metadata": {
        "execution": {
          "iopub.status.busy": "2023-02-01T16:04:51.181341Z",
          "iopub.execute_input": "2023-02-01T16:04:51.182087Z",
          "iopub.status.idle": "2023-02-01T16:04:51.190970Z",
          "shell.execute_reply.started": "2023-02-01T16:04:51.182047Z",
          "shell.execute_reply": "2023-02-01T16:04:51.189785Z"
        },
        "trusted": true,
        "id": "WcZabQcpsDlM",
        "outputId": "9a5cb295-3c0a-450f-acd8-54db26a47f22"
      },
      "execution_count": null,
      "outputs": [
        {
          "execution_count": 20,
          "output_type": "execute_result",
          "data": {
            "text/plain": "['setup.cfg',\n 'segment',\n '.gitattributes',\n '.dockerignore',\n 'detect.py',\n 'hubconf.py',\n '.gitignore',\n 'data',\n 'benchmarks.py',\n 'train.py',\n 'CONTRIBUTING.md',\n 'README.zh-CN.md',\n 'models',\n 'requirements.txt',\n 'export.py',\n 'classify',\n 'CITATION.cff',\n 'LICENSE',\n '.pre-commit-config.yaml',\n 'utils',\n 'README.md',\n 'tutorial.ipynb',\n '.github',\n 'val.py',\n '.git',\n 'data_images']"
          },
          "metadata": {}
        }
      ]
    },
    {
      "cell_type": "code",
      "source": [
        "os.listdir('yolov5/data_images/')"
      ],
      "metadata": {
        "execution": {
          "iopub.status.busy": "2023-02-01T16:04:51.192742Z",
          "iopub.execute_input": "2023-02-01T16:04:51.193104Z",
          "iopub.status.idle": "2023-02-01T16:04:51.201440Z",
          "shell.execute_reply.started": "2023-02-01T16:04:51.193066Z",
          "shell.execute_reply": "2023-02-01T16:04:51.200375Z"
        },
        "trusted": true,
        "id": "eIiUmBiKsDlN",
        "outputId": "72d4925c-7736-4b41-9f7b-8eed03ec0d22"
      },
      "execution_count": null,
      "outputs": [
        {
          "execution_count": 21,
          "output_type": "execute_result",
          "data": {
            "text/plain": "['train', 'test']"
          },
          "metadata": {}
        }
      ]
    },
    {
      "cell_type": "code",
      "source": [
        "shutil.copyfile(str(\"/kaggle/input/data-yml/data.yaml\"),str(\"./yolov5/data.yaml\"))"
      ],
      "metadata": {
        "execution": {
          "iopub.status.busy": "2023-02-01T16:04:51.202866Z",
          "iopub.execute_input": "2023-02-01T16:04:51.203865Z",
          "iopub.status.idle": "2023-02-01T16:04:51.215597Z",
          "shell.execute_reply.started": "2023-02-01T16:04:51.203826Z",
          "shell.execute_reply": "2023-02-01T16:04:51.214524Z"
        },
        "trusted": true,
        "id": "jRWOp3cBsDlN",
        "outputId": "26de3eed-9041-4bb5-f795-545b1ff96551"
      },
      "execution_count": null,
      "outputs": [
        {
          "execution_count": 22,
          "output_type": "execute_result",
          "data": {
            "text/plain": "'./yolov5/data.yaml'"
          },
          "metadata": {}
        }
      ]
    },
    {
      "cell_type": "code",
      "source": [
        "!pip install GPUtil\n",
        "\n",
        "import torch\n",
        "from GPUtil import showUtilization as gpu_usage\n",
        "from numba import cuda\n",
        "\n",
        "def free_gpu_cache():\n",
        "    print(\"Initial GPU Usage\")\n",
        "    gpu_usage()\n",
        "\n",
        "    torch.cuda.empty_cache()\n",
        "\n",
        "    cuda.select_device(0)\n",
        "    cuda.close()\n",
        "    cuda.select_device(0)\n",
        "\n",
        "    print(\"GPU Usage after emptying the cache\")\n",
        "    gpu_usage()\n",
        "\n",
        "free_gpu_cache()"
      ],
      "metadata": {
        "execution": {
          "iopub.status.busy": "2023-02-01T16:04:51.217179Z",
          "iopub.execute_input": "2023-02-01T16:04:51.217593Z",
          "iopub.status.idle": "2023-02-01T16:05:06.406396Z",
          "shell.execute_reply.started": "2023-02-01T16:04:51.217558Z",
          "shell.execute_reply": "2023-02-01T16:05:06.404338Z"
        },
        "trusted": true,
        "id": "JoMLcJEMsDlN",
        "outputId": "133bc30b-aafa-4c36-8de3-a5b9fbcaf5c0"
      },
      "execution_count": null,
      "outputs": [
        {
          "name": "stdout",
          "text": "Collecting GPUtil\n  Downloading GPUtil-1.4.0.tar.gz (5.5 kB)\n  Preparing metadata (setup.py) ... \u001b[?25ldone\n\u001b[?25hBuilding wheels for collected packages: GPUtil\n  Building wheel for GPUtil (setup.py) ... \u001b[?25ldone\n\u001b[?25h  Created wheel for GPUtil: filename=GPUtil-1.4.0-py3-none-any.whl size=7411 sha256=3309555a23ff9b949e7eadbae20f786207c569854639464767c9b71a79247810\n  Stored in directory: /root/.cache/pip/wheels/6e/f8/83/534c52482d6da64622ddbf72cd93c35d2ef2881b78fd08ff0c\nSuccessfully built GPUtil\nInstalling collected packages: GPUtil\nSuccessfully installed GPUtil-1.4.0\n\u001b[33mWARNING: Running pip as the 'root' user can result in broken permissions and conflicting behaviour with the system package manager. It is recommended to use a virtual environment instead: https://pip.pypa.io/warnings/venv\u001b[0m\u001b[33m\n\u001b[0mInitial GPU Usage\n| ID | GPU | MEM |\n------------------\n|  0 |  0% |  0% |\nGPU Usage after emptying the cache\n| ID | GPU | MEM |\n------------------\n|  0 |  3% |  2% |\n",
          "output_type": "stream"
        }
      ]
    },
    {
      "cell_type": "code",
      "source": [
        "!python ./yolov5/train.py --data ./yolov5/data.yaml --cfg ./yolov5/models/yolov5s.yaml --batch-size 8 --name Model --epochs 10"
      ],
      "metadata": {
        "execution": {
          "iopub.status.busy": "2023-02-01T16:05:06.408321Z",
          "iopub.execute_input": "2023-02-01T16:05:06.409847Z",
          "iopub.status.idle": "2023-02-01T16:25:17.556617Z",
          "shell.execute_reply.started": "2023-02-01T16:05:06.409802Z",
          "shell.execute_reply": "2023-02-01T16:25:17.555397Z"
        },
        "trusted": true,
        "id": "RvWIS9RbsDlN",
        "outputId": "2cd913a5-02e0-47a4-a837-458e7558d368"
      },
      "execution_count": null,
      "outputs": [
        {
          "name": "stdout",
          "text": "\u001b[34m\u001b[1mwandb\u001b[0m: (1) Create a W&B account\n\u001b[34m\u001b[1mwandb\u001b[0m: (2) Use an existing W&B account\n\u001b[34m\u001b[1mwandb\u001b[0m: (3) Don't visualize my results\n\u001b[34m\u001b[1mwandb\u001b[0m: Enter your choice: (30 second timeout) \n\u001b[34m\u001b[1mwandb\u001b[0m: W&B disabled due to login timeout.\n\u001b[34m\u001b[1mtrain: \u001b[0mweights=yolov5/yolov5s.pt, cfg=./yolov5/models/yolov5s.yaml, data=./yolov5/data.yaml, hyp=yolov5/data/hyps/hyp.scratch-low.yaml, epochs=10, batch_size=8, imgsz=640, rect=False, resume=False, nosave=False, noval=False, noautoanchor=False, noplots=False, evolve=None, bucket=, cache=None, image_weights=False, device=, multi_scale=False, single_cls=False, optimizer=SGD, sync_bn=False, workers=8, project=yolov5/runs/train, name=Model, exist_ok=False, quad=False, cos_lr=False, label_smoothing=0.0, patience=100, freeze=[0], save_period=-1, seed=0, local_rank=-1, entity=None, upload_dataset=False, bbox_interval=-1, artifact_alias=latest\n\u001b[34m\u001b[1mgithub: \u001b[0mup to date with https://github.com/ultralytics/yolov5 ✅\nYOLOv5 🚀 v7.0-72-g064365d Python-3.7.12 torch-1.11.0 CUDA:0 (Tesla P100-PCIE-16GB, 16281MiB)\n\n\u001b[34m\u001b[1mhyperparameters: \u001b[0mlr0=0.01, lrf=0.01, momentum=0.937, weight_decay=0.0005, warmup_epochs=3.0, warmup_momentum=0.8, warmup_bias_lr=0.1, box=0.05, cls=0.5, cls_pw=1.0, obj=1.0, obj_pw=1.0, iou_t=0.2, anchor_t=4.0, fl_gamma=0.0, hsv_h=0.015, hsv_s=0.7, hsv_v=0.4, degrees=0.0, translate=0.1, scale=0.5, shear=0.0, perspective=0.0, flipud=0.0, fliplr=0.5, mosaic=1.0, mixup=0.0, copy_paste=0.0\n\u001b[34m\u001b[1mClearML: \u001b[0mrun 'pip install clearml' to automatically track, visualize and remotely train YOLOv5 🚀 in ClearML\n\u001b[34m\u001b[1mComet: \u001b[0mrun 'pip install comet_ml' to automatically track and visualize YOLOv5 🚀 runs in Comet\n\u001b[34m\u001b[1mTensorBoard: \u001b[0mStart with 'tensorboard --logdir yolov5/runs/train', view at http://localhost:6006/\nDownloading https://ultralytics.com/assets/Arial.ttf to /root/.config/Ultralytics/Arial.ttf...\n100%|████████████████████████████████████████| 755k/755k [00:00<00:00, 24.3MB/s]\nDownloading https://github.com/ultralytics/yolov5/releases/download/v7.0/yolov5s.pt to yolov5/yolov5s.pt...\n100%|██████████████████████████████████████| 14.1M/14.1M [00:01<00:00, 10.7MB/s]\n\nOverriding model.yaml nc=80 with nc=1\n\n                 from  n    params  module                                  arguments                     \n  0                -1  1      3520  models.common.Conv                      [3, 32, 6, 2, 2]              \n  1                -1  1     18560  models.common.Conv                      [32, 64, 3, 2]                \n  2                -1  1     18816  models.common.C3                        [64, 64, 1]                   \n  3                -1  1     73984  models.common.Conv                      [64, 128, 3, 2]               \n  4                -1  2    115712  models.common.C3                        [128, 128, 2]                 \n  5                -1  1    295424  models.common.Conv                      [128, 256, 3, 2]              \n  6                -1  3    625152  models.common.C3                        [256, 256, 3]                 \n  7                -1  1   1180672  models.common.Conv                      [256, 512, 3, 2]              \n  8                -1  1   1182720  models.common.C3                        [512, 512, 1]                 \n  9                -1  1    656896  models.common.SPPF                      [512, 512, 5]                 \n 10                -1  1    131584  models.common.Conv                      [512, 256, 1, 1]              \n 11                -1  1         0  torch.nn.modules.upsampling.Upsample    [None, 2, 'nearest']          \n 12           [-1, 6]  1         0  models.common.Concat                    [1]                           \n 13                -1  1    361984  models.common.C3                        [512, 256, 1, False]          \n 14                -1  1     33024  models.common.Conv                      [256, 128, 1, 1]              \n 15                -1  1         0  torch.nn.modules.upsampling.Upsample    [None, 2, 'nearest']          \n 16           [-1, 4]  1         0  models.common.Concat                    [1]                           \n 17                -1  1     90880  models.common.C3                        [256, 128, 1, False]          \n 18                -1  1    147712  models.common.Conv                      [128, 128, 3, 2]              \n 19          [-1, 14]  1         0  models.common.Concat                    [1]                           \n 20                -1  1    296448  models.common.C3                        [256, 256, 1, False]          \n 21                -1  1    590336  models.common.Conv                      [256, 256, 3, 2]              \n 22          [-1, 10]  1         0  models.common.Concat                    [1]                           \n 23                -1  1   1182720  models.common.C3                        [512, 512, 1, False]          \n 24      [17, 20, 23]  1     16182  models.yolo.Detect                      [1, [[10, 13, 16, 30, 33, 23], [30, 61, 62, 45, 59, 119], [116, 90, 156, 198, 373, 326]], [128, 256, 512]]\nYOLOv5s summary: 214 layers, 7022326 parameters, 7022326 gradients, 15.9 GFLOPs\n\nTransferred 342/349 items from yolov5/yolov5s.pt\n\u001b[34m\u001b[1mAMP: \u001b[0mchecks passed ✅\n\u001b[34m\u001b[1moptimizer:\u001b[0m SGD(lr=0.01) with parameter groups 57 weight(decay=0.0), 60 weight(decay=0.0005), 60 bias\n\u001b[34m\u001b[1malbumentations: \u001b[0mBlur(p=0.01, blur_limit=(3, 7)), MedianBlur(p=0.01, blur_limit=(3, 7)), ToGray(p=0.01), CLAHE(p=0.01, clip_limit=(1, 4.0), tile_grid_size=(8, 8))\n\u001b[34m\u001b[1mtrain: \u001b[0mScanning /kaggle/working/yolov5/data_images/train... 1461 images, 0 backg\u001b[0m\n\u001b[34m\u001b[1mtrain: \u001b[0mWARNING ⚠️ /kaggle/working/yolov5/data_images/train/0631.JPG: corrupt JPEG restored and saved\n\u001b[34m\u001b[1mtrain: \u001b[0mWARNING ⚠️ /kaggle/working/yolov5/data_images/train/2018.jpg: ignoring corrupt image/label: image file is truncated (1 bytes not processed)\n\u001b[34m\u001b[1mtrain: \u001b[0mNew cache created: /kaggle/working/yolov5/data_images/train.cache\n\u001b[34m\u001b[1mval: \u001b[0mScanning /kaggle/working/yolov5/data_images/test... 625 images, 0 backgroun\u001b[0m\n\u001b[34m\u001b[1mval: \u001b[0mNew cache created: /kaggle/working/yolov5/data_images/test.cache\n\n\u001b[34m\u001b[1mAutoAnchor: \u001b[0m5.19 anchors/target, 1.000 Best Possible Recall (BPR). Current anchors are a good fit to dataset ✅\nPlotting labels to yolov5/runs/train/Model/labels.jpg... \nImage sizes 640 train, 640 val\nUsing 2 dataloader workers\nLogging results to \u001b[1myolov5/runs/train/Model\u001b[0m\nStarting training for 10 epochs...\n\n      Epoch    GPU_mem   box_loss   obj_loss   cls_loss  Instances       Size\n        0/9      2.38G    0.08122     0.0243          0         10        640: 1\n                 Class     Images  Instances          P          R      mAP50   \n                   all        625        643      0.731      0.669      0.733      0.237\n\n      Epoch    GPU_mem   box_loss   obj_loss   cls_loss  Instances       Size\n        1/9      3.06G    0.05129    0.01738          0          7        640: 1\n                 Class     Images  Instances          P          R      mAP50   \n                   all        625        643      0.762      0.807      0.858      0.515\n\n      Epoch    GPU_mem   box_loss   obj_loss   cls_loss  Instances       Size\n        2/9      3.06G    0.04309    0.01454          0          8        640: 1\n                 Class     Images  Instances          P          R      mAP50   \n                   all        625        643      0.985       0.81      0.939      0.509\n\n      Epoch    GPU_mem   box_loss   obj_loss   cls_loss  Instances       Size\n        3/9      3.06G    0.03613    0.01136          0         10        640: 1\n                 Class     Images  Instances          P          R      mAP50   \n                   all        625        643      0.948      0.961      0.971      0.652\n\n      Epoch    GPU_mem   box_loss   obj_loss   cls_loss  Instances       Size\n        4/9      3.06G    0.03172   0.008874          0          8        640: 1\n                 Class     Images  Instances          P          R      mAP50   \n                   all        625        643      0.981      0.984      0.993      0.671\n\n      Epoch    GPU_mem   box_loss   obj_loss   cls_loss  Instances       Size\n        5/9      3.06G    0.02635   0.007335          0          9        640: 1\n                 Class     Images  Instances          P          R      mAP50   \n                   all        625        643      0.991      0.986      0.995      0.719\n\n      Epoch    GPU_mem   box_loss   obj_loss   cls_loss  Instances       Size\n        6/9      3.06G    0.02317   0.006583          0         10        640: 1\n                 Class     Images  Instances          P          R      mAP50   \n                   all        625        643      0.989      0.989      0.992      0.772\n\n      Epoch    GPU_mem   box_loss   obj_loss   cls_loss  Instances       Size\n        7/9      3.06G    0.02012   0.005945          0          6        640: 1\n                 Class     Images  Instances          P          R      mAP50   \n                   all        625        643      0.994      0.987      0.994        0.8\n\n      Epoch    GPU_mem   box_loss   obj_loss   cls_loss  Instances       Size\n        8/9      3.06G    0.01722   0.005373          0         13        640: 1\n                 Class     Images  Instances          P          R      mAP50   \n                   all        625        643      0.988      0.991      0.993      0.842\n\n      Epoch    GPU_mem   box_loss   obj_loss   cls_loss  Instances       Size\n        9/9      3.06G    0.01523   0.005126          0          6        640: 1\n                 Class     Images  Instances          P          R      mAP50   \n                   all        625        643       0.99      0.992      0.991      0.848\n\n10 epochs completed in 0.311 hours.\nOptimizer stripped from yolov5/runs/train/Model/weights/last.pt, 14.3MB\nOptimizer stripped from yolov5/runs/train/Model/weights/best.pt, 14.3MB\n\nValidating yolov5/runs/train/Model/weights/best.pt...\nFusing layers... \nYOLOv5s summary: 157 layers, 7012822 parameters, 0 gradients, 15.8 GFLOPs\n                 Class     Images  Instances          P          R      mAP50   \n                   all        625        643       0.99      0.992      0.991      0.848\nResults saved to \u001b[1myolov5/runs/train/Model\u001b[0m\nException ignored in: <function _MultiProcessingDataLoaderIter.__del__ at 0x7f03dda1f290>\nTraceback (most recent call last):\n  File \"/opt/conda/lib/python3.7/site-packages/torch/utils/data/dataloader.py\", line 1358, in __del__\n  File \"/opt/conda/lib/python3.7/site-packages/torch/utils/data/dataloader.py\", line 1283, in _shutdown_workers\nAttributeError: 'NoneType' object has no attribute 'python_exit_status'\nException ignored in: <function _MultiProcessingDataLoaderIter.__del__ at 0x7f03dda1f290>\nTraceback (most recent call last):\n  File \"/opt/conda/lib/python3.7/site-packages/torch/utils/data/dataloader.py\", line 1358, in __del__\n  File \"/opt/conda/lib/python3.7/site-packages/torch/utils/data/dataloader.py\", line 1283, in _shutdown_workers\nAttributeError: 'NoneType' object has no attribute 'python_exit_status'\n",
          "output_type": "stream"
        }
      ]
    },
    {
      "cell_type": "code",
      "source": [
        "os.listdir('./yolov5/runs/train/Model/weights/')"
      ],
      "metadata": {
        "execution": {
          "iopub.status.busy": "2023-02-01T16:25:17.560198Z",
          "iopub.execute_input": "2023-02-01T16:25:17.560522Z",
          "iopub.status.idle": "2023-02-01T16:25:17.568141Z",
          "shell.execute_reply.started": "2023-02-01T16:25:17.560491Z",
          "shell.execute_reply": "2023-02-01T16:25:17.567202Z"
        },
        "trusted": true,
        "id": "7ySdghlSsDlO",
        "outputId": "b029829d-dfdf-4153-c184-d37d1e1338a5"
      },
      "execution_count": null,
      "outputs": [
        {
          "execution_count": 25,
          "output_type": "execute_result",
          "data": {
            "text/plain": "['last.pt', 'best.pt']"
          },
          "metadata": {}
        }
      ]
    },
    {
      "cell_type": "code",
      "source": [
        "!python ./yolov5/export.py --weight ./yolov5/runs/train/Model/weights/best.pt --include torchscript onnx"
      ],
      "metadata": {
        "execution": {
          "iopub.status.busy": "2023-02-01T16:25:17.569600Z",
          "iopub.execute_input": "2023-02-01T16:25:17.569960Z",
          "iopub.status.idle": "2023-02-01T16:25:25.270010Z",
          "shell.execute_reply.started": "2023-02-01T16:25:17.569927Z",
          "shell.execute_reply": "2023-02-01T16:25:25.268831Z"
        },
        "trusted": true,
        "id": "kRAxbyP7sDlO",
        "outputId": "90a6419d-afc7-416e-df81-595edc301c5c"
      },
      "execution_count": null,
      "outputs": [
        {
          "name": "stdout",
          "text": "\u001b[34m\u001b[1mexport: \u001b[0mdata=yolov5/data/coco128.yaml, weights=['./yolov5/runs/train/Model/weights/best.pt'], imgsz=[640, 640], batch_size=1, device=cpu, half=False, inplace=False, keras=False, optimize=False, int8=False, dynamic=False, simplify=False, opset=17, verbose=False, workspace=4, nms=False, agnostic_nms=False, topk_per_class=100, topk_all=100, iou_thres=0.45, conf_thres=0.25, include=['torchscript', 'onnx']\nYOLOv5 🚀 v7.0-72-g064365d Python-3.7.12 torch-1.11.0 CPU\n\nFusing layers... \nYOLOv5s summary: 157 layers, 7012822 parameters, 0 gradients, 15.8 GFLOPs\n\n\u001b[34m\u001b[1mPyTorch:\u001b[0m starting from yolov5/runs/train/Model/weights/best.pt with output shape (1, 25200, 6) (13.7 MB)\n\n\u001b[34m\u001b[1mTorchScript:\u001b[0m starting export with torch 1.11.0...\n\u001b[34m\u001b[1mTorchScript:\u001b[0m export success ✅ 2.4s, saved as yolov5/runs/train/Model/weights/best.torchscript (27.2 MB)\n\n\u001b[34m\u001b[1mONNX:\u001b[0m starting export with onnx 1.13.0...\n\u001b[34m\u001b[1mONNX:\u001b[0m export failure ❌ 0.1s: Unsupported ONNX opset version: 17\n\nExport complete (3.3s)\nResults saved to \u001b[1m/kaggle/working/yolov5/runs/train/Model/weights\u001b[0m\nDetect:          python detect.py --weights yolov5/runs/train/Model/weights/best.torchscript \nValidate:        python val.py --weights yolov5/runs/train/Model/weights/best.torchscript \nPyTorch Hub:     model = torch.hub.load('ultralytics/yolov5', 'custom', 'yolov5/runs/train/Model/weights/best.torchscript')  \nVisualize:       https://netron.app\n",
          "output_type": "stream"
        }
      ]
    },
    {
      "cell_type": "code",
      "source": [
        "os.listdir(\"yolov5/runs/train/Model/\")"
      ],
      "metadata": {
        "execution": {
          "iopub.status.busy": "2023-02-01T16:29:27.960845Z",
          "iopub.execute_input": "2023-02-01T16:29:27.961201Z",
          "iopub.status.idle": "2023-02-01T16:29:27.969181Z",
          "shell.execute_reply.started": "2023-02-01T16:29:27.961172Z",
          "shell.execute_reply": "2023-02-01T16:29:27.968063Z"
        },
        "trusted": true,
        "id": "sWOMtTftsDlO",
        "outputId": "59184e49-4f42-4bbb-9243-63208d7f9743"
      },
      "execution_count": null,
      "outputs": [
        {
          "execution_count": 28,
          "output_type": "execute_result",
          "data": {
            "text/plain": "['results.csv',\n 'results.png',\n 'weights',\n 'labels.jpg',\n 'F1_curve.png',\n 'val_batch2_pred.jpg',\n 'confusion_matrix.png',\n 'labels_correlogram.jpg',\n 'train_batch1.jpg',\n 'hyp.yaml',\n 'train_batch2.jpg',\n 'val_batch0_pred.jpg',\n 'PR_curve.png',\n 'events.out.tfevents.1675267547.5c906a6dd330.141.0',\n 'opt.yaml',\n 'train_batch0.jpg',\n 'R_curve.png',\n 'val_batch1_labels.jpg',\n 'val_batch2_labels.jpg',\n 'val_batch1_pred.jpg',\n 'val_batch0_labels.jpg',\n 'P_curve.png']"
          },
          "metadata": {}
        }
      ]
    },
    {
      "cell_type": "code",
      "source": [
        "import matplotlib.pyplot as plt\n",
        "import matplotlib.image as mpimg\n",
        "image_path = \"yolov5/runs/train/Model/results.png\"\n",
        "image = mpimg.imread(image_path)\n",
        "plt.imshow(image)\n",
        "plt.show()"
      ],
      "metadata": {
        "execution": {
          "iopub.status.busy": "2023-02-01T16:33:37.930607Z",
          "iopub.execute_input": "2023-02-01T16:33:37.931180Z",
          "iopub.status.idle": "2023-02-01T16:33:38.596445Z",
          "shell.execute_reply.started": "2023-02-01T16:33:37.931133Z",
          "shell.execute_reply": "2023-02-01T16:33:38.595527Z"
        },
        "trusted": true,
        "id": "CzQt-OjLsDlO",
        "outputId": "f6578cc8-c0e9-4499-c8cc-6d3184edb479"
      },
      "execution_count": null,
      "outputs": [
        {
          "output_type": "display_data",
          "data": {
            "text/plain": "<Figure size 432x288 with 1 Axes>",
            "image/png": "[encoded data removed]"
          },
          "metadata": {
            "needs_background": "light"
          }
        }
      ]
    },
    {
      "cell_type": "code",
      "source": [],
      "metadata": {
        "id": "1zyDdijFsDlP"
      },
      "execution_count": null,
      "outputs": []
    }
  ]
}