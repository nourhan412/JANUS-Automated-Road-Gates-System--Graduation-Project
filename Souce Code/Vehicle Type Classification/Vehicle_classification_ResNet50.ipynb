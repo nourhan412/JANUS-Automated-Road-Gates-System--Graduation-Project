{
  "cells": [
    {
      "cell_type": "code",
      "execution_count": null,
      "id": "54918e1c",
      "metadata": {
        "execution": {
          "iopub.execute_input": "2023-02-22T20:52:38.461611Z",
          "iopub.status.busy": "2023-02-22T20:52:38.461042Z",
          "iopub.status.idle": "2023-02-22T20:52:45.400670Z",
          "shell.execute_reply": "2023-02-22T20:52:45.399672Z"
        },
        "id": "54918e1c",
        "papermill": {
          "duration": 6.952737,
          "end_time": "2023-02-22T20:52:45.403461",
          "exception": false,
          "start_time": "2023-02-22T20:52:38.450724",
          "status": "completed"
        },
        "tags": []
      },
      "outputs": [],
      "source": [
        "import os\n",
        "import shutil\n",
        "from PIL import Image\n",
        "import matplotlib.pyplot as plt\n",
        "import numpy as np\n",
        "import tensorflow as tf\n",
        "from tensorflow import keras\n",
        "from tensorflow.keras.preprocessing.image import ImageDataGenerator\n",
        "from sklearn.utils.class_weight import compute_class_weight\n",
        "from tensorflow.keras.applications.vgg16 import VGG16, preprocess_input\n",
        "from tensorflow.keras import regularizers\n",
        "from tensorflow.keras.layers import Dense, Dropout, GlobalAveragePooling2D\n",
        "from tensorflow.keras.callbacks import EarlyStopping\n",
        "from tensorflow.keras.applications import ResNet50\n",
        "from tensorflow.keras import  models"
      ]
    },
    {
      "cell_type": "code",
      "execution_count": null,
      "id": "4059a0ef",
      "metadata": {
        "execution": {
          "iopub.execute_input": "2023-02-22T20:52:45.415792Z",
          "iopub.status.busy": "2023-02-22T20:52:45.413831Z",
          "iopub.status.idle": "2023-02-22T20:52:45.429841Z",
          "shell.execute_reply": "2023-02-22T20:52:45.428911Z"
        },
        "id": "4059a0ef",
        "outputId": "b9ccdc2b-c09c-433f-deb2-3a3e956154cf",
        "papermill": {
          "duration": 0.023722,
          "end_time": "2023-02-22T20:52:45.431909",
          "exception": false,
          "start_time": "2023-02-22T20:52:45.408187",
          "status": "completed"
        },
        "tags": []
      },
      "outputs": [
        {
          "data": {
            "text/plain": [
              "['large_truck', 'bus', 'truck', 'microbus', 'car', 'semi_truck', 'mini_bus']"
            ]
          },
          "execution_count": 2,
          "metadata": {},
          "output_type": "execute_result"
        }
      ],
      "source": [
        "data_path=\"/kaggle/input/vehicle-classification-dataset/vehicle_classification_data\"\n",
        "\n",
        "os.listdir(data_path)"
      ]
    },
    {
      "cell_type": "code",
      "execution_count": null,
      "id": "0a6511a4",
      "metadata": {
        "execution": {
          "iopub.execute_input": "2023-02-22T20:52:45.444103Z",
          "iopub.status.busy": "2023-02-22T20:52:45.442421Z",
          "iopub.status.idle": "2023-02-22T20:52:48.565843Z",
          "shell.execute_reply": "2023-02-22T20:52:48.564609Z"
        },
        "id": "0a6511a4",
        "papermill": {
          "duration": 3.131795,
          "end_time": "2023-02-22T20:52:48.568424",
          "exception": false,
          "start_time": "2023-02-22T20:52:45.436629",
          "status": "completed"
        },
        "tags": [],
        "outputId": "a26c2adc-dfc0-474d-d8d0-8d4c1ab13a89"
      },
      "outputs": [
        {
          "name": "stdout",
          "output_type": "stream",
          "text": [
            "/bin/bash: /opt/conda/lib/libtinfo.so.6: no version information available (required by /bin/bash)\r\n",
            "/bin/bash: /opt/conda/lib/libtinfo.so.6: no version information available (required by /bin/bash)\r\n",
            "/bin/bash: /opt/conda/lib/libtinfo.so.6: no version information available (required by /bin/bash)\r\n"
          ]
        }
      ],
      "source": [
        "!mkdir train\n",
        "!mkdir test\n",
        "!mkdir val"
      ]
    },
    {
      "cell_type": "code",
      "execution_count": null,
      "id": "9487edd7",
      "metadata": {
        "execution": {
          "iopub.execute_input": "2023-02-22T20:52:48.580248Z",
          "iopub.status.busy": "2023-02-22T20:52:48.579865Z",
          "iopub.status.idle": "2023-02-22T20:52:49.521812Z",
          "shell.execute_reply": "2023-02-22T20:52:49.520612Z"
        },
        "id": "9487edd7",
        "outputId": "7afa539e-d0f2-459d-b1d4-03dddecbe601",
        "papermill": {
          "duration": 0.951144,
          "end_time": "2023-02-22T20:52:49.524548",
          "exception": false,
          "start_time": "2023-02-22T20:52:48.573404",
          "status": "completed"
        },
        "tags": []
      },
      "outputs": [
        {
          "name": "stdout",
          "output_type": "stream",
          "text": [
            "/kaggle/working/train\n",
            "/bin/bash: /opt/conda/lib/libtinfo.so.6: no version information available (required by /bin/bash)\r\n"
          ]
        }
      ],
      "source": [
        "%cd /kaggle/working/train\n",
        "!mkdir mini_bus  microbus  car  truck  large_truck  semi_truck  bus"
      ]
    },
    {
      "cell_type": "code",
      "execution_count": null,
      "id": "da447e27",
      "metadata": {
        "execution": {
          "iopub.execute_input": "2023-02-22T20:52:49.536116Z",
          "iopub.status.busy": "2023-02-22T20:52:49.535779Z",
          "iopub.status.idle": "2023-02-22T20:52:50.511611Z",
          "shell.execute_reply": "2023-02-22T20:52:50.510403Z"
        },
        "id": "da447e27",
        "outputId": "a5c1b5d4-d45b-400c-98b9-ff6faaa84d2a",
        "papermill": {
          "duration": 0.984546,
          "end_time": "2023-02-22T20:52:50.514115",
          "exception": false,
          "start_time": "2023-02-22T20:52:49.529569",
          "status": "completed"
        },
        "tags": []
      },
      "outputs": [
        {
          "name": "stdout",
          "output_type": "stream",
          "text": [
            "/kaggle/working/test\n",
            "/bin/bash: /opt/conda/lib/libtinfo.so.6: no version information available (required by /bin/bash)\r\n"
          ]
        }
      ],
      "source": [
        "%cd /kaggle/working/test\n",
        "!mkdir mini_bus  microbus  car  truck  large_truck  semi_truck  bus"
      ]
    },
    {
      "cell_type": "code",
      "execution_count": null,
      "id": "85584467",
      "metadata": {
        "execution": {
          "iopub.execute_input": "2023-02-22T20:52:50.526256Z",
          "iopub.status.busy": "2023-02-22T20:52:50.525912Z",
          "iopub.status.idle": "2023-02-22T20:52:51.469933Z",
          "shell.execute_reply": "2023-02-22T20:52:51.468709Z"
        },
        "papermill": {
          "duration": 0.953104,
          "end_time": "2023-02-22T20:52:51.472539",
          "exception": false,
          "start_time": "2023-02-22T20:52:50.519435",
          "status": "completed"
        },
        "tags": [],
        "id": "85584467",
        "outputId": "6d28d8be-5511-4d8c-ee2b-96cb2ae7abbe"
      },
      "outputs": [
        {
          "name": "stdout",
          "output_type": "stream",
          "text": [
            "/kaggle/working/val\n",
            "/bin/bash: /opt/conda/lib/libtinfo.so.6: no version information available (required by /bin/bash)\r\n"
          ]
        }
      ],
      "source": [
        "%cd /kaggle/working/val\n",
        "!mkdir mini_bus  microbus  car  truck  large_truck  semi_truck  bus"
      ]
    },
    {
      "cell_type": "code",
      "execution_count": null,
      "id": "5d8375d4",
      "metadata": {
        "execution": {
          "iopub.execute_input": "2023-02-22T20:52:51.485765Z",
          "iopub.status.busy": "2023-02-22T20:52:51.483909Z",
          "iopub.status.idle": "2023-02-22T20:52:51.492046Z",
          "shell.execute_reply": "2023-02-22T20:52:51.490799Z"
        },
        "id": "5d8375d4",
        "outputId": "a7195b8a-a772-4d6b-e978-a9d8e20be9fe",
        "papermill": {
          "duration": 0.016275,
          "end_time": "2023-02-22T20:52:51.494015",
          "exception": false,
          "start_time": "2023-02-22T20:52:51.477740",
          "status": "completed"
        },
        "tags": []
      },
      "outputs": [
        {
          "name": "stdout",
          "output_type": "stream",
          "text": [
            "/kaggle/working\n"
          ]
        }
      ],
      "source": [
        "%cd /kaggle/working"
      ]
    },
    {
      "cell_type": "code",
      "execution_count": null,
      "id": "c52217d5",
      "metadata": {
        "execution": {
          "iopub.execute_input": "2023-02-22T20:52:51.505596Z",
          "iopub.status.busy": "2023-02-22T20:52:51.504812Z",
          "iopub.status.idle": "2023-02-22T20:53:01.601661Z",
          "shell.execute_reply": "2023-02-22T20:53:01.600666Z"
        },
        "id": "c52217d5",
        "papermill": {
          "duration": 10.105565,
          "end_time": "2023-02-22T20:53:01.604514",
          "exception": false,
          "start_time": "2023-02-22T20:52:51.498949",
          "status": "completed"
        },
        "tags": []
      },
      "outputs": [],
      "source": [
        "for folder in os.listdir(data_path):\n",
        "    class_path=data_path+'/'+folder\n",
        "    _all=os.listdir(class_path)\n",
        "    cuttoff=int(len(_all)*0.80)\n",
        "    train=_all[:cuttoff]\n",
        "    tmp=_all[cuttoff:]\n",
        "    cuttoff=int(len(tmp)*0.50)\n",
        "    val=tmp[:cuttoff]\n",
        "    test=tmp[cuttoff:]\n",
        "    for image in train:\n",
        "        shutil.copy(str(class_path+'/'+image),str(\"/kaggle/working/train/\"+folder+'/'+image))\n",
        "    for image in test:\n",
        "        shutil.copy(str(class_path+'/'+image),str(\"/kaggle/working/test/\"+folder+'/'+image))\n",
        "    for image in val:\n",
        "        shutil.copy(str(class_path+'/'+image),str(\"/kaggle/working/val/\"+folder+'/'+image))"
      ]
    },
    {
      "cell_type": "code",
      "execution_count": null,
      "id": "565d9e3b",
      "metadata": {
        "execution": {
          "iopub.execute_input": "2023-02-22T20:53:01.617264Z",
          "iopub.status.busy": "2023-02-22T20:53:01.616575Z",
          "iopub.status.idle": "2023-02-22T20:53:01.622602Z",
          "shell.execute_reply": "2023-02-22T20:53:01.621673Z"
        },
        "id": "565d9e3b",
        "outputId": "b16b0296-b71b-4c8c-d290-aef066df397a",
        "papermill": {
          "duration": 0.014829,
          "end_time": "2023-02-22T20:53:01.624920",
          "exception": false,
          "start_time": "2023-02-22T20:53:01.610091",
          "status": "completed"
        },
        "tags": []
      },
      "outputs": [
        {
          "name": "stdout",
          "output_type": "stream",
          "text": [
            "/kaggle/working\n"
          ]
        }
      ],
      "source": [
        "%cd /kaggle/working/"
      ]
    },
    {
      "cell_type": "code",
      "execution_count": null,
      "id": "3ab99f07",
      "metadata": {
        "execution": {
          "iopub.execute_input": "2023-02-22T20:53:01.636916Z",
          "iopub.status.busy": "2023-02-22T20:53:01.636556Z",
          "iopub.status.idle": "2023-02-22T20:53:01.646984Z",
          "shell.execute_reply": "2023-02-22T20:53:01.645684Z"
        },
        "id": "3ab99f07",
        "outputId": "b30f2490-baa7-4af4-b2c8-f267f6d69a47",
        "papermill": {
          "duration": 0.019526,
          "end_time": "2023-02-22T20:53:01.649586",
          "exception": false,
          "start_time": "2023-02-22T20:53:01.630060",
          "status": "completed"
        },
        "tags": []
      },
      "outputs": [
        {
          "name": "stdout",
          "output_type": "stream",
          "text": [
            "training images of car equal 484 ,validation 61 and testing 61 image.\n",
            "training images of truck equal 401 ,validation 50 and testing 51 image.\n",
            "training images of bus equal 202 ,validation 25 and testing 26 image.\n",
            "training images of microbus equal 470 ,validation 59 and testing 59 image.\n",
            "training images of large_truck equal 214 ,validation 27 and testing 27 image.\n",
            "training images of semi_truck equal 473 ,validation 59 and testing 60 image.\n",
            "training images of mini_bus equal 45 ,validation 6 and testing 6 image.\n"
          ]
        }
      ],
      "source": [
        "for cl in os.listdir(\"/kaggle/working/train\"):\n",
        "    if cl=='.ipynb_checkpoints':\n",
        "        continue\n",
        "    train_images=os.listdir(str(\"/kaggle/working/train/\"+cl))\n",
        "    test_images=os.listdir(\"/kaggle/working/test/\"+cl)\n",
        "    val_images=os.listdir(\"/kaggle/working/val/\"+cl)\n",
        "    print(f\"training images of {cl} equal {len(train_images)} ,validation {len(val_images)} and testing {len(test_images)} image.\")"
      ]
    },
    {
      "cell_type": "code",
      "execution_count": null,
      "id": "ede95e57",
      "metadata": {
        "execution": {
          "iopub.execute_input": "2023-02-22T20:53:01.663851Z",
          "iopub.status.busy": "2023-02-22T20:53:01.662105Z",
          "iopub.status.idle": "2023-02-22T20:53:01.903892Z",
          "shell.execute_reply": "2023-02-22T20:53:01.902853Z"
        },
        "papermill": {
          "duration": 0.250967,
          "end_time": "2023-02-22T20:53:01.906635",
          "exception": false,
          "start_time": "2023-02-22T20:53:01.655668",
          "status": "completed"
        },
        "tags": [],
        "id": "ede95e57",
        "outputId": "bc88b0e6-1d06-477b-e717-1252a78e99aa"
      },
      "outputs": [
        {
          "name": "stdout",
          "output_type": "stream",
          "text": [
            "Found 2289 images belonging to 7 classes.\n",
            "Found 287 images belonging to 7 classes.\n"
          ]
        }
      ],
      "source": [
        "# Define data generators for my training and validation data\n",
        "train_dir=\"/kaggle/working/train\"\n",
        "val_dir=\"/kaggle/working/val\"\n",
        "batch_size=32\n",
        "train_datagen = ImageDataGenerator(preprocessing_function=preprocess_input)\n",
        "train_generator = train_datagen.flow_from_directory(\n",
        "    train_dir,\n",
        "    target_size=(224, 224),\n",
        "    batch_size=batch_size,\n",
        "    class_mode='categorical')\n",
        "\n",
        "y = train_generator.classes\n",
        "class_weights = compute_class_weight(class_weight = \"balanced\",classes =np.unique(y), y = y)\n",
        "class_weights_dict = dict(zip(range(len(np.unique(y))), class_weights))\n",
        "\n",
        "val_datagen = ImageDataGenerator(preprocessing_function=preprocess_input)\n",
        "val_generator = val_datagen.flow_from_directory(\n",
        "    val_dir,\n",
        "    target_size=(224, 224),\n",
        "    batch_size=batch_size,\n",
        "    class_mode='categorical')"
      ]
    },
    {
      "cell_type": "code",
      "execution_count": null,
      "id": "5429fc63",
      "metadata": {
        "execution": {
          "iopub.execute_input": "2023-02-22T20:53:01.920833Z",
          "iopub.status.busy": "2023-02-22T20:53:01.919112Z",
          "iopub.status.idle": "2023-02-22T20:53:01.927696Z",
          "shell.execute_reply": "2023-02-22T20:53:01.926834Z"
        },
        "papermill": {
          "duration": 0.01752,
          "end_time": "2023-02-22T20:53:01.929791",
          "exception": false,
          "start_time": "2023-02-22T20:53:01.912271",
          "status": "completed"
        },
        "tags": [],
        "id": "5429fc63",
        "outputId": "98dcbeeb-ec08-49df-8ff2-27d969a952a7"
      },
      "outputs": [
        {
          "data": {
            "text/plain": [
              "{0: 1.618811881188119,\n",
              " 1: 0.6756198347107438,\n",
              " 2: 1.52803738317757,\n",
              " 3: 0.6957446808510638,\n",
              " 4: 7.266666666666667,\n",
              " 5: 0.6913319238900634,\n",
              " 6: 0.8154613466334164}"
            ]
          },
          "execution_count": 12,
          "metadata": {},
          "output_type": "execute_result"
        }
      ],
      "source": [
        "class_weights_dict"
      ]
    },
    {
      "cell_type": "code",
      "execution_count": null,
      "id": "f473e7b5",
      "metadata": {
        "execution": {
          "iopub.execute_input": "2023-02-22T20:53:01.942376Z",
          "iopub.status.busy": "2023-02-22T20:53:01.941976Z",
          "iopub.status.idle": "2023-02-22T20:53:01.948134Z",
          "shell.execute_reply": "2023-02-22T20:53:01.947181Z"
        },
        "papermill": {
          "duration": 0.015101,
          "end_time": "2023-02-22T20:53:01.950473",
          "exception": false,
          "start_time": "2023-02-22T20:53:01.935372",
          "status": "completed"
        },
        "tags": [],
        "id": "f473e7b5",
        "outputId": "c04a253e-a874-4e75-db6f-c565ca568d28"
      },
      "outputs": [
        {
          "data": {
            "text/plain": [
              "dict_keys(['bus', 'car', 'large_truck', 'microbus', 'mini_bus', 'semi_truck', 'truck'])"
            ]
          },
          "execution_count": 13,
          "metadata": {},
          "output_type": "execute_result"
        }
      ],
      "source": [
        "train_generator.class_indices.keys()"
      ]
    },
    {
      "cell_type": "code",
      "execution_count": null,
      "id": "7150e388",
      "metadata": {
        "execution": {
          "iopub.execute_input": "2023-02-22T20:53:01.963041Z",
          "iopub.status.busy": "2023-02-22T20:53:01.962695Z",
          "iopub.status.idle": "2023-02-22T20:53:10.095637Z",
          "shell.execute_reply": "2023-02-22T20:53:10.094738Z"
        },
        "papermill": {
          "duration": 8.465514,
          "end_time": "2023-02-22T20:53:10.421726",
          "exception": false,
          "start_time": "2023-02-22T20:53:01.956212",
          "status": "completed"
        },
        "tags": [],
        "id": "7150e388",
        "outputId": "841cef99-e2e3-42f6-c300-198519f1bbaf"
      },
      "outputs": [
        {
          "name": "stdout",
          "output_type": "stream",
          "text": [
            "Downloading data from https://storage.googleapis.com/tensorflow/keras-applications/resnet/resnet50_weights_tf_dim_ordering_tf_kernels_notop.h5\n",
            "94765736/94765736 [==============================] - 3s 0us/step\n",
            "Model: \"model\"\n",
            "__________________________________________________________________________________________________\n",
            " Layer (type)                   Output Shape         Param #     Connected to                     \n",
            "==================================================================================================\n",
            " input_1 (InputLayer)           [(None, 224, 224, 3  0           []                               \n",
            "                                )]                                                                \n",
            "                                                                                                  \n",
            " conv1_pad (ZeroPadding2D)      (None, 230, 230, 3)  0           ['input_1[0][0]']                \n",
            "                                                                                                  \n",
            " conv1_conv (Conv2D)            (None, 112, 112, 64  9472        ['conv1_pad[0][0]']              \n",
            "                                )                                                                 \n",
            "                                                                                                  \n",
            " conv1_bn (BatchNormalization)  (None, 112, 112, 64  256         ['conv1_conv[0][0]']             \n",
            "                                )                                                                 \n",
            "                                                                                                  \n",
            " conv1_relu (Activation)        (None, 112, 112, 64  0           ['conv1_bn[0][0]']               \n",
            "                                )                                                                 \n",
            "                                                                                                  \n",
            " pool1_pad (ZeroPadding2D)      (None, 114, 114, 64  0           ['conv1_relu[0][0]']             \n",
            "                                )                                                                 \n",
            "                                                                                                  \n",
            " pool1_pool (MaxPooling2D)      (None, 56, 56, 64)   0           ['pool1_pad[0][0]']              \n",
            "                                                                                                  \n",
            " conv2_block1_1_conv (Conv2D)   (None, 56, 56, 64)   4160        ['pool1_pool[0][0]']             \n",
            "                                                                                                  \n",
            " conv2_block1_1_bn (BatchNormal  (None, 56, 56, 64)  256         ['conv2_block1_1_conv[0][0]']    \n",
            " ization)                                                                                         \n",
            "                                                                                                  \n",
            " conv2_block1_1_relu (Activatio  (None, 56, 56, 64)  0           ['conv2_block1_1_bn[0][0]']      \n",
            " n)                                                                                               \n",
            "                                                                                                  \n",
            " conv2_block1_2_conv (Conv2D)   (None, 56, 56, 64)   36928       ['conv2_block1_1_relu[0][0]']    \n",
            "                                                                                                  \n",
            " conv2_block1_2_bn (BatchNormal  (None, 56, 56, 64)  256         ['conv2_block1_2_conv[0][0]']    \n",
            " ization)                                                                                         \n",
            "                                                                                                  \n",
            " conv2_block1_2_relu (Activatio  (None, 56, 56, 64)  0           ['conv2_block1_2_bn[0][0]']      \n",
            " n)                                                                                               \n",
            "                                                                                                  \n",
            " conv2_block1_0_conv (Conv2D)   (None, 56, 56, 256)  16640       ['pool1_pool[0][0]']             \n",
            "                                                                                                  \n",
            " conv2_block1_3_conv (Conv2D)   (None, 56, 56, 256)  16640       ['conv2_block1_2_relu[0][0]']    \n",
            "                                                                                                  \n",
            " conv2_block1_0_bn (BatchNormal  (None, 56, 56, 256)  1024       ['conv2_block1_0_conv[0][0]']    \n",
            " ization)                                                                                         \n",
            "                                                                                                  \n",
            " conv2_block1_3_bn (BatchNormal  (None, 56, 56, 256)  1024       ['conv2_block1_3_conv[0][0]']    \n",
            " ization)                                                                                         \n",
            "                                                                                                  \n",
            " conv2_block1_add (Add)         (None, 56, 56, 256)  0           ['conv2_block1_0_bn[0][0]',      \n",
            "                                                                  'conv2_block1_3_bn[0][0]']      \n",
            "                                                                                                  \n",
            " conv2_block1_out (Activation)  (None, 56, 56, 256)  0           ['conv2_block1_add[0][0]']       \n",
            "                                                                                                  \n",
            " conv2_block2_1_conv (Conv2D)   (None, 56, 56, 64)   16448       ['conv2_block1_out[0][0]']       \n",
            "                                                                                                  \n",
            " conv2_block2_1_bn (BatchNormal  (None, 56, 56, 64)  256         ['conv2_block2_1_conv[0][0]']    \n",
            " ization)                                                                                         \n",
            "                                                                                                  \n",
            " conv2_block2_1_relu (Activatio  (None, 56, 56, 64)  0           ['conv2_block2_1_bn[0][0]']      \n",
            " n)                                                                                               \n",
            "                                                                                                  \n",
            " conv2_block2_2_conv (Conv2D)   (None, 56, 56, 64)   36928       ['conv2_block2_1_relu[0][0]']    \n",
            "                                                                                                  \n",
            " conv2_block2_2_bn (BatchNormal  (None, 56, 56, 64)  256         ['conv2_block2_2_conv[0][0]']    \n",
            " ization)                                                                                         \n",
            "                                                                                                  \n",
            " conv2_block2_2_relu (Activatio  (None, 56, 56, 64)  0           ['conv2_block2_2_bn[0][0]']      \n",
            " n)                                                                                               \n",
            "                                                                                                  \n",
            " conv2_block2_3_conv (Conv2D)   (None, 56, 56, 256)  16640       ['conv2_block2_2_relu[0][0]']    \n",
            "                                                                                                  \n",
            " conv2_block2_3_bn (BatchNormal  (None, 56, 56, 256)  1024       ['conv2_block2_3_conv[0][0]']    \n",
            " ization)                                                                                         \n",
            "                                                                                                  \n",
            " conv2_block2_add (Add)         (None, 56, 56, 256)  0           ['conv2_block1_out[0][0]',       \n",
            "                                                                  'conv2_block2_3_bn[0][0]']      \n",
            "                                                                                                  \n",
            " conv2_block2_out (Activation)  (None, 56, 56, 256)  0           ['conv2_block2_add[0][0]']       \n",
            "                                                                                                  \n",
            " conv2_block3_1_conv (Conv2D)   (None, 56, 56, 64)   16448       ['conv2_block2_out[0][0]']       \n",
            "                                                                                                  \n",
            " conv2_block3_1_bn (BatchNormal  (None, 56, 56, 64)  256         ['conv2_block3_1_conv[0][0]']    \n",
            " ization)                                                                                         \n",
            "                                                                                                  \n",
            " conv2_block3_1_relu (Activatio  (None, 56, 56, 64)  0           ['conv2_block3_1_bn[0][0]']      \n",
            " n)                                                                                               \n",
            "                                                                                                  \n",
            " conv2_block3_2_conv (Conv2D)   (None, 56, 56, 64)   36928       ['conv2_block3_1_relu[0][0]']    \n",
            "                                                                                                  \n",
            " conv2_block3_2_bn (BatchNormal  (None, 56, 56, 64)  256         ['conv2_block3_2_conv[0][0]']    \n",
            " ization)                                                                                         \n",
            "                                                                                                  \n",
            " conv2_block3_2_relu (Activatio  (None, 56, 56, 64)  0           ['conv2_block3_2_bn[0][0]']      \n",
            " n)                                                                                               \n",
            "                                                                                                  \n",
            " conv2_block3_3_conv (Conv2D)   (None, 56, 56, 256)  16640       ['conv2_block3_2_relu[0][0]']    \n",
            "                                                                                                  \n",
            " conv2_block3_3_bn (BatchNormal  (None, 56, 56, 256)  1024       ['conv2_block3_3_conv[0][0]']    \n",
            " ization)                                                                                         \n",
            "                                                                                                  \n",
            " conv2_block3_add (Add)         (None, 56, 56, 256)  0           ['conv2_block2_out[0][0]',       \n",
            "                                                                  'conv2_block3_3_bn[0][0]']      \n",
            "                                                                                                  \n",
            " conv2_block3_out (Activation)  (None, 56, 56, 256)  0           ['conv2_block3_add[0][0]']       \n",
            "                                                                                                  \n",
            " conv3_block1_1_conv (Conv2D)   (None, 28, 28, 128)  32896       ['conv2_block3_out[0][0]']       \n",
            "                                                                                                  \n",
            " conv3_block1_1_bn (BatchNormal  (None, 28, 28, 128)  512        ['conv3_block1_1_conv[0][0]']    \n",
            " ization)                                                                                         \n",
            "                                                                                                  \n",
            " conv3_block1_1_relu (Activatio  (None, 28, 28, 128)  0          ['conv3_block1_1_bn[0][0]']      \n",
            " n)                                                                                               \n",
            "                                                                                                  \n",
            " conv3_block1_2_conv (Conv2D)   (None, 28, 28, 128)  147584      ['conv3_block1_1_relu[0][0]']    \n",
            "                                                                                                  \n",
            " conv3_block1_2_bn (BatchNormal  (None, 28, 28, 128)  512        ['conv3_block1_2_conv[0][0]']    \n",
            " ization)                                                                                         \n",
            "                                                                                                  \n",
            " conv3_block1_2_relu (Activatio  (None, 28, 28, 128)  0          ['conv3_block1_2_bn[0][0]']      \n",
            " n)                                                                                               \n",
            "                                                                                                  \n",
            " conv3_block1_0_conv (Conv2D)   (None, 28, 28, 512)  131584      ['conv2_block3_out[0][0]']       \n",
            "                                                                                                  \n",
            " conv3_block1_3_conv (Conv2D)   (None, 28, 28, 512)  66048       ['conv3_block1_2_relu[0][0]']    \n",
            "                                                                                                  \n",
            " conv3_block1_0_bn (BatchNormal  (None, 28, 28, 512)  2048       ['conv3_block1_0_conv[0][0]']    \n",
            " ization)                                                                                         \n",
            "                                                                                                  \n",
            " conv3_block1_3_bn (BatchNormal  (None, 28, 28, 512)  2048       ['conv3_block1_3_conv[0][0]']    \n",
            " ization)                                                                                         \n",
            "                                                                                                  \n",
            " conv3_block1_add (Add)         (None, 28, 28, 512)  0           ['conv3_block1_0_bn[0][0]',      \n",
            "                                                                  'conv3_block1_3_bn[0][0]']      \n",
            "                                                                                                  \n",
            " conv3_block1_out (Activation)  (None, 28, 28, 512)  0           ['conv3_block1_add[0][0]']       \n",
            "                                                                                                  \n",
            " conv3_block2_1_conv (Conv2D)   (None, 28, 28, 128)  65664       ['conv3_block1_out[0][0]']       \n",
            "                                                                                                  \n",
            " conv3_block2_1_bn (BatchNormal  (None, 28, 28, 128)  512        ['conv3_block2_1_conv[0][0]']    \n",
            " ization)                                                                                         \n",
            "                                                                                                  \n",
            " conv3_block2_1_relu (Activatio  (None, 28, 28, 128)  0          ['conv3_block2_1_bn[0][0]']      \n",
            " n)                                                                                               \n",
            "                                                                                                  \n",
            " conv3_block2_2_conv (Conv2D)   (None, 28, 28, 128)  147584      ['conv3_block2_1_relu[0][0]']    \n",
            "                                                                                                  \n",
            " conv3_block2_2_bn (BatchNormal  (None, 28, 28, 128)  512        ['conv3_block2_2_conv[0][0]']    \n",
            " ization)                                                                                         \n",
            "                                                                                                  \n",
            " conv3_block2_2_relu (Activatio  (None, 28, 28, 128)  0          ['conv3_block2_2_bn[0][0]']      \n",
            " n)                                                                                               \n",
            "                                                                                                  \n",
            " conv3_block2_3_conv (Conv2D)   (None, 28, 28, 512)  66048       ['conv3_block2_2_relu[0][0]']    \n",
            "                                                                                                  \n",
            " conv3_block2_3_bn (BatchNormal  (None, 28, 28, 512)  2048       ['conv3_block2_3_conv[0][0]']    \n",
            " ization)                                                                                         \n",
            "                                                                                                  \n",
            " conv3_block2_add (Add)         (None, 28, 28, 512)  0           ['conv3_block1_out[0][0]',       \n",
            "                                                                  'conv3_block2_3_bn[0][0]']      \n",
            "                                                                                                  \n",
            " conv3_block2_out (Activation)  (None, 28, 28, 512)  0           ['conv3_block2_add[0][0]']       \n",
            "                                                                                                  \n",
            " conv3_block3_1_conv (Conv2D)   (None, 28, 28, 128)  65664       ['conv3_block2_out[0][0]']       \n",
            "                                                                                                  \n",
            " conv3_block3_1_bn (BatchNormal  (None, 28, 28, 128)  512        ['conv3_block3_1_conv[0][0]']    \n",
            " ization)                                                                                         \n",
            "                                                                                                  \n",
            " conv3_block3_1_relu (Activatio  (None, 28, 28, 128)  0          ['conv3_block3_1_bn[0][0]']      \n",
            " n)                                                                                               \n",
            "                                                                                                  \n",
            " conv3_block3_2_conv (Conv2D)   (None, 28, 28, 128)  147584      ['conv3_block3_1_relu[0][0]']    \n",
            "                                                                                                  \n",
            " conv3_block3_2_bn (BatchNormal  (None, 28, 28, 128)  512        ['conv3_block3_2_conv[0][0]']    \n",
            " ization)                                                                                         \n",
            "                                                                                                  \n",
            " conv3_block3_2_relu (Activatio  (None, 28, 28, 128)  0          ['conv3_block3_2_bn[0][0]']      \n",
            " n)                                                                                               \n",
            "                                                                                                  \n",
            " conv3_block3_3_conv (Conv2D)   (None, 28, 28, 512)  66048       ['conv3_block3_2_relu[0][0]']    \n",
            "                                                                                                  \n",
            " conv3_block3_3_bn (BatchNormal  (None, 28, 28, 512)  2048       ['conv3_block3_3_conv[0][0]']    \n",
            " ization)                                                                                         \n",
            "                                                                                                  \n",
            " conv3_block3_add (Add)         (None, 28, 28, 512)  0           ['conv3_block2_out[0][0]',       \n",
            "                                                                  'conv3_block3_3_bn[0][0]']      \n",
            "                                                                                                  \n",
            " conv3_block3_out (Activation)  (None, 28, 28, 512)  0           ['conv3_block3_add[0][0]']       \n",
            "                                                                                                  \n",
            " conv3_block4_1_conv (Conv2D)   (None, 28, 28, 128)  65664       ['conv3_block3_out[0][0]']       \n",
            "                                                                                                  \n",
            " conv3_block4_1_bn (BatchNormal  (None, 28, 28, 128)  512        ['conv3_block4_1_conv[0][0]']    \n",
            " ization)                                                                                         \n",
            "                                                                                                  \n",
            " conv3_block4_1_relu (Activatio  (None, 28, 28, 128)  0          ['conv3_block4_1_bn[0][0]']      \n",
            " n)                                                                                               \n",
            "                                                                                                  \n",
            " conv3_block4_2_conv (Conv2D)   (None, 28, 28, 128)  147584      ['conv3_block4_1_relu[0][0]']    \n",
            "                                                                                                  \n",
            " conv3_block4_2_bn (BatchNormal  (None, 28, 28, 128)  512        ['conv3_block4_2_conv[0][0]']    \n",
            " ization)                                                                                         \n",
            "                                                                                                  \n",
            " conv3_block4_2_relu (Activatio  (None, 28, 28, 128)  0          ['conv3_block4_2_bn[0][0]']      \n",
            " n)                                                                                               \n",
            "                                                                                                  \n",
            " conv3_block4_3_conv (Conv2D)   (None, 28, 28, 512)  66048       ['conv3_block4_2_relu[0][0]']    \n",
            "                                                                                                  \n",
            " conv3_block4_3_bn (BatchNormal  (None, 28, 28, 512)  2048       ['conv3_block4_3_conv[0][0]']    \n",
            " ization)                                                                                         \n",
            "                                                                                                  \n",
            " conv3_block4_add (Add)         (None, 28, 28, 512)  0           ['conv3_block3_out[0][0]',       \n",
            "                                                                  'conv3_block4_3_bn[0][0]']      \n",
            "                                                                                                  \n",
            " conv3_block4_out (Activation)  (None, 28, 28, 512)  0           ['conv3_block4_add[0][0]']       \n",
            "                                                                                                  \n",
            " conv4_block1_1_conv (Conv2D)   (None, 14, 14, 256)  131328      ['conv3_block4_out[0][0]']       \n",
            "                                                                                                  \n",
            " conv4_block1_1_bn (BatchNormal  (None, 14, 14, 256)  1024       ['conv4_block1_1_conv[0][0]']    \n",
            " ization)                                                                                         \n",
            "                                                                                                  \n",
            " conv4_block1_1_relu (Activatio  (None, 14, 14, 256)  0          ['conv4_block1_1_bn[0][0]']      \n",
            " n)                                                                                               \n",
            "                                                                                                  \n",
            " conv4_block1_2_conv (Conv2D)   (None, 14, 14, 256)  590080      ['conv4_block1_1_relu[0][0]']    \n",
            "                                                                                                  \n",
            " conv4_block1_2_bn (BatchNormal  (None, 14, 14, 256)  1024       ['conv4_block1_2_conv[0][0]']    \n",
            " ization)                                                                                         \n",
            "                                                                                                  \n",
            " conv4_block1_2_relu (Activatio  (None, 14, 14, 256)  0          ['conv4_block1_2_bn[0][0]']      \n",
            " n)                                                                                               \n",
            "                                                                                                  \n",
            " conv4_block1_0_conv (Conv2D)   (None, 14, 14, 1024  525312      ['conv3_block4_out[0][0]']       \n",
            "                                )                                                                 \n",
            "                                                                                                  \n",
            " conv4_block1_3_conv (Conv2D)   (None, 14, 14, 1024  263168      ['conv4_block1_2_relu[0][0]']    \n",
            "                                )                                                                 \n",
            "                                                                                                  \n",
            " conv4_block1_0_bn (BatchNormal  (None, 14, 14, 1024  4096       ['conv4_block1_0_conv[0][0]']    \n",
            " ization)                       )                                                                 \n",
            "                                                                                                  \n",
            " conv4_block1_3_bn (BatchNormal  (None, 14, 14, 1024  4096       ['conv4_block1_3_conv[0][0]']    \n",
            " ization)                       )                                                                 \n",
            "                                                                                                  \n",
            " conv4_block1_add (Add)         (None, 14, 14, 1024  0           ['conv4_block1_0_bn[0][0]',      \n",
            "                                )                                 'conv4_block1_3_bn[0][0]']      \n",
            "                                                                                                  \n",
            " conv4_block1_out (Activation)  (None, 14, 14, 1024  0           ['conv4_block1_add[0][0]']       \n",
            "                                )                                                                 \n",
            "                                                                                                  \n",
            " conv4_block2_1_conv (Conv2D)   (None, 14, 14, 256)  262400      ['conv4_block1_out[0][0]']       \n",
            "                                                                                                  \n",
            " conv4_block2_1_bn (BatchNormal  (None, 14, 14, 256)  1024       ['conv4_block2_1_conv[0][0]']    \n",
            " ization)                                                                                         \n",
            "                                                                                                  \n",
            " conv4_block2_1_relu (Activatio  (None, 14, 14, 256)  0          ['conv4_block2_1_bn[0][0]']      \n",
            " n)                                                                                               \n",
            "                                                                                                  \n",
            " conv4_block2_2_conv (Conv2D)   (None, 14, 14, 256)  590080      ['conv4_block2_1_relu[0][0]']    \n",
            "                                                                                                  \n",
            " conv4_block2_2_bn (BatchNormal  (None, 14, 14, 256)  1024       ['conv4_block2_2_conv[0][0]']    \n",
            " ization)                                                                                         \n",
            "                                                                                                  \n",
            " conv4_block2_2_relu (Activatio  (None, 14, 14, 256)  0          ['conv4_block2_2_bn[0][0]']      \n",
            " n)                                                                                               \n",
            "                                                                                                  \n",
            " conv4_block2_3_conv (Conv2D)   (None, 14, 14, 1024  263168      ['conv4_block2_2_relu[0][0]']    \n",
            "                                )                                                                 \n",
            "                                                                                                  \n",
            " conv4_block2_3_bn (BatchNormal  (None, 14, 14, 1024  4096       ['conv4_block2_3_conv[0][0]']    \n",
            " ization)                       )                                                                 \n",
            "                                                                                                  \n",
            " conv4_block2_add (Add)         (None, 14, 14, 1024  0           ['conv4_block1_out[0][0]',       \n",
            "                                )                                 'conv4_block2_3_bn[0][0]']      \n",
            "                                                                                                  \n",
            " conv4_block2_out (Activation)  (None, 14, 14, 1024  0           ['conv4_block2_add[0][0]']       \n",
            "                                )                                                                 \n",
            "                                                                                                  \n",
            " conv4_block3_1_conv (Conv2D)   (None, 14, 14, 256)  262400      ['conv4_block2_out[0][0]']       \n",
            "                                                                                                  \n",
            " conv4_block3_1_bn (BatchNormal  (None, 14, 14, 256)  1024       ['conv4_block3_1_conv[0][0]']    \n",
            " ization)                                                                                         \n",
            "                                                                                                  \n",
            " conv4_block3_1_relu (Activatio  (None, 14, 14, 256)  0          ['conv4_block3_1_bn[0][0]']      \n",
            " n)                                                                                               \n",
            "                                                                                                  \n",
            " conv4_block3_2_conv (Conv2D)   (None, 14, 14, 256)  590080      ['conv4_block3_1_relu[0][0]']    \n",
            "                                                                                                  \n",
            " conv4_block3_2_bn (BatchNormal  (None, 14, 14, 256)  1024       ['conv4_block3_2_conv[0][0]']    \n",
            " ization)                                                                                         \n",
            "                                                                                                  \n",
            " conv4_block3_2_relu (Activatio  (None, 14, 14, 256)  0          ['conv4_block3_2_bn[0][0]']      \n",
            " n)                                                                                               \n",
            "                                                                                                  \n",
            " conv4_block3_3_conv (Conv2D)   (None, 14, 14, 1024  263168      ['conv4_block3_2_relu[0][0]']    \n",
            "                                )                                                                 \n",
            "                                                                                                  \n",
            " conv4_block3_3_bn (BatchNormal  (None, 14, 14, 1024  4096       ['conv4_block3_3_conv[0][0]']    \n",
            " ization)                       )                                                                 \n",
            "                                                                                                  \n",
            " conv4_block3_add (Add)         (None, 14, 14, 1024  0           ['conv4_block2_out[0][0]',       \n",
            "                                )                                 'conv4_block3_3_bn[0][0]']      \n",
            "                                                                                                  \n",
            " conv4_block3_out (Activation)  (None, 14, 14, 1024  0           ['conv4_block3_add[0][0]']       \n",
            "                                )                                                                 \n",
            "                                                                                                  \n",
            " conv4_block4_1_conv (Conv2D)   (None, 14, 14, 256)  262400      ['conv4_block3_out[0][0]']       \n",
            "                                                                                                  \n",
            " conv4_block4_1_bn (BatchNormal  (None, 14, 14, 256)  1024       ['conv4_block4_1_conv[0][0]']    \n",
            " ization)                                                                                         \n",
            "                                                                                                  \n",
            " conv4_block4_1_relu (Activatio  (None, 14, 14, 256)  0          ['conv4_block4_1_bn[0][0]']      \n",
            " n)                                                                                               \n",
            "                                                                                                  \n",
            " conv4_block4_2_conv (Conv2D)   (None, 14, 14, 256)  590080      ['conv4_block4_1_relu[0][0]']    \n",
            "                                                                                                  \n",
            " conv4_block4_2_bn (BatchNormal  (None, 14, 14, 256)  1024       ['conv4_block4_2_conv[0][0]']    \n",
            " ization)                                                                                         \n",
            "                                                                                                  \n",
            " conv4_block4_2_relu (Activatio  (None, 14, 14, 256)  0          ['conv4_block4_2_bn[0][0]']      \n",
            " n)                                                                                               \n",
            "                                                                                                  \n",
            " conv4_block4_3_conv (Conv2D)   (None, 14, 14, 1024  263168      ['conv4_block4_2_relu[0][0]']    \n",
            "                                )                                                                 \n",
            "                                                                                                  \n",
            " conv4_block4_3_bn (BatchNormal  (None, 14, 14, 1024  4096       ['conv4_block4_3_conv[0][0]']    \n",
            " ization)                       )                                                                 \n",
            "                                                                                                  \n",
            " conv4_block4_add (Add)         (None, 14, 14, 1024  0           ['conv4_block3_out[0][0]',       \n",
            "                                )                                 'conv4_block4_3_bn[0][0]']      \n",
            "                                                                                                  \n",
            " conv4_block4_out (Activation)  (None, 14, 14, 1024  0           ['conv4_block4_add[0][0]']       \n",
            "                                )                                                                 \n",
            "                                                                                                  \n",
            " conv4_block5_1_conv (Conv2D)   (None, 14, 14, 256)  262400      ['conv4_block4_out[0][0]']       \n",
            "                                                                                                  \n",
            " conv4_block5_1_bn (BatchNormal  (None, 14, 14, 256)  1024       ['conv4_block5_1_conv[0][0]']    \n",
            " ization)                                                                                         \n",
            "                                                                                                  \n",
            " conv4_block5_1_relu (Activatio  (None, 14, 14, 256)  0          ['conv4_block5_1_bn[0][0]']      \n",
            " n)                                                                                               \n",
            "                                                                                                  \n",
            " conv4_block5_2_conv (Conv2D)   (None, 14, 14, 256)  590080      ['conv4_block5_1_relu[0][0]']    \n",
            "                                                                                                  \n",
            " conv4_block5_2_bn (BatchNormal  (None, 14, 14, 256)  1024       ['conv4_block5_2_conv[0][0]']    \n",
            " ization)                                                                                         \n",
            "                                                                                                  \n",
            " conv4_block5_2_relu (Activatio  (None, 14, 14, 256)  0          ['conv4_block5_2_bn[0][0]']      \n",
            " n)                                                                                               \n",
            "                                                                                                  \n",
            " conv4_block5_3_conv (Conv2D)   (None, 14, 14, 1024  263168      ['conv4_block5_2_relu[0][0]']    \n",
            "                                )                                                                 \n",
            "                                                                                                  \n",
            " conv4_block5_3_bn (BatchNormal  (None, 14, 14, 1024  4096       ['conv4_block5_3_conv[0][0]']    \n",
            " ization)                       )                                                                 \n",
            "                                                                                                  \n",
            " conv4_block5_add (Add)         (None, 14, 14, 1024  0           ['conv4_block4_out[0][0]',       \n",
            "                                )                                 'conv4_block5_3_bn[0][0]']      \n",
            "                                                                                                  \n",
            " conv4_block5_out (Activation)  (None, 14, 14, 1024  0           ['conv4_block5_add[0][0]']       \n",
            "                                )                                                                 \n",
            "                                                                                                  \n",
            " conv4_block6_1_conv (Conv2D)   (None, 14, 14, 256)  262400      ['conv4_block5_out[0][0]']       \n",
            "                                                                                                  \n",
            " conv4_block6_1_bn (BatchNormal  (None, 14, 14, 256)  1024       ['conv4_block6_1_conv[0][0]']    \n",
            " ization)                                                                                         \n",
            "                                                                                                  \n",
            " conv4_block6_1_relu (Activatio  (None, 14, 14, 256)  0          ['conv4_block6_1_bn[0][0]']      \n",
            " n)                                                                                               \n",
            "                                                                                                  \n",
            " conv4_block6_2_conv (Conv2D)   (None, 14, 14, 256)  590080      ['conv4_block6_1_relu[0][0]']    \n",
            "                                                                                                  \n",
            " conv4_block6_2_bn (BatchNormal  (None, 14, 14, 256)  1024       ['conv4_block6_2_conv[0][0]']    \n",
            " ization)                                                                                         \n",
            "                                                                                                  \n",
            " conv4_block6_2_relu (Activatio  (None, 14, 14, 256)  0          ['conv4_block6_2_bn[0][0]']      \n",
            " n)                                                                                               \n",
            "                                                                                                  \n",
            " conv4_block6_3_conv (Conv2D)   (None, 14, 14, 1024  263168      ['conv4_block6_2_relu[0][0]']    \n",
            "                                )                                                                 \n",
            "                                                                                                  \n",
            " conv4_block6_3_bn (BatchNormal  (None, 14, 14, 1024  4096       ['conv4_block6_3_conv[0][0]']    \n",
            " ization)                       )                                                                 \n",
            "                                                                                                  \n",
            " conv4_block6_add (Add)         (None, 14, 14, 1024  0           ['conv4_block5_out[0][0]',       \n",
            "                                )                                 'conv4_block6_3_bn[0][0]']      \n",
            "                                                                                                  \n",
            " conv4_block6_out (Activation)  (None, 14, 14, 1024  0           ['conv4_block6_add[0][0]']       \n",
            "                                )                                                                 \n",
            "                                                                                                  \n",
            " conv5_block1_1_conv (Conv2D)   (None, 7, 7, 512)    524800      ['conv4_block6_out[0][0]']       \n",
            "                                                                                                  \n",
            " conv5_block1_1_bn (BatchNormal  (None, 7, 7, 512)   2048        ['conv5_block1_1_conv[0][0]']    \n",
            " ization)                                                                                         \n",
            "                                                                                                  \n",
            " conv5_block1_1_relu (Activatio  (None, 7, 7, 512)   0           ['conv5_block1_1_bn[0][0]']      \n",
            " n)                                                                                               \n",
            "                                                                                                  \n",
            " conv5_block1_2_conv (Conv2D)   (None, 7, 7, 512)    2359808     ['conv5_block1_1_relu[0][0]']    \n",
            "                                                                                                  \n",
            " conv5_block1_2_bn (BatchNormal  (None, 7, 7, 512)   2048        ['conv5_block1_2_conv[0][0]']    \n",
            " ization)                                                                                         \n",
            "                                                                                                  \n",
            " conv5_block1_2_relu (Activatio  (None, 7, 7, 512)   0           ['conv5_block1_2_bn[0][0]']      \n",
            " n)                                                                                               \n",
            "                                                                                                  \n",
            " conv5_block1_0_conv (Conv2D)   (None, 7, 7, 2048)   2099200     ['conv4_block6_out[0][0]']       \n",
            "                                                                                                  \n",
            " conv5_block1_3_conv (Conv2D)   (None, 7, 7, 2048)   1050624     ['conv5_block1_2_relu[0][0]']    \n",
            "                                                                                                  \n",
            " conv5_block1_0_bn (BatchNormal  (None, 7, 7, 2048)  8192        ['conv5_block1_0_conv[0][0]']    \n",
            " ization)                                                                                         \n",
            "                                                                                                  \n",
            " conv5_block1_3_bn (BatchNormal  (None, 7, 7, 2048)  8192        ['conv5_block1_3_conv[0][0]']    \n",
            " ization)                                                                                         \n",
            "                                                                                                  \n",
            " conv5_block1_add (Add)         (None, 7, 7, 2048)   0           ['conv5_block1_0_bn[0][0]',      \n",
            "                                                                  'conv5_block1_3_bn[0][0]']      \n",
            "                                                                                                  \n",
            " conv5_block1_out (Activation)  (None, 7, 7, 2048)   0           ['conv5_block1_add[0][0]']       \n",
            "                                                                                                  \n",
            " conv5_block2_1_conv (Conv2D)   (None, 7, 7, 512)    1049088     ['conv5_block1_out[0][0]']       \n",
            "                                                                                                  \n",
            " conv5_block2_1_bn (BatchNormal  (None, 7, 7, 512)   2048        ['conv5_block2_1_conv[0][0]']    \n",
            " ization)                                                                                         \n",
            "                                                                                                  \n",
            " conv5_block2_1_relu (Activatio  (None, 7, 7, 512)   0           ['conv5_block2_1_bn[0][0]']      \n",
            " n)                                                                                               \n",
            "                                                                                                  \n",
            " conv5_block2_2_conv (Conv2D)   (None, 7, 7, 512)    2359808     ['conv5_block2_1_relu[0][0]']    \n",
            "                                                                                                  \n",
            " conv5_block2_2_bn (BatchNormal  (None, 7, 7, 512)   2048        ['conv5_block2_2_conv[0][0]']    \n",
            " ization)                                                                                         \n",
            "                                                                                                  \n",
            " conv5_block2_2_relu (Activatio  (None, 7, 7, 512)   0           ['conv5_block2_2_bn[0][0]']      \n",
            " n)                                                                                               \n",
            "                                                                                                  \n",
            " conv5_block2_3_conv (Conv2D)   (None, 7, 7, 2048)   1050624     ['conv5_block2_2_relu[0][0]']    \n",
            "                                                                                                  \n",
            " conv5_block2_3_bn (BatchNormal  (None, 7, 7, 2048)  8192        ['conv5_block2_3_conv[0][0]']    \n",
            " ization)                                                                                         \n",
            "                                                                                                  \n",
            " conv5_block2_add (Add)         (None, 7, 7, 2048)   0           ['conv5_block1_out[0][0]',       \n",
            "                                                                  'conv5_block2_3_bn[0][0]']      \n",
            "                                                                                                  \n",
            " conv5_block2_out (Activation)  (None, 7, 7, 2048)   0           ['conv5_block2_add[0][0]']       \n",
            "                                                                                                  \n",
            " conv5_block3_1_conv (Conv2D)   (None, 7, 7, 512)    1049088     ['conv5_block2_out[0][0]']       \n",
            "                                                                                                  \n",
            " conv5_block3_1_bn (BatchNormal  (None, 7, 7, 512)   2048        ['conv5_block3_1_conv[0][0]']    \n",
            " ization)                                                                                         \n",
            "                                                                                                  \n",
            " conv5_block3_1_relu (Activatio  (None, 7, 7, 512)   0           ['conv5_block3_1_bn[0][0]']      \n",
            " n)                                                                                               \n",
            "                                                                                                  \n",
            " conv5_block3_2_conv (Conv2D)   (None, 7, 7, 512)    2359808     ['conv5_block3_1_relu[0][0]']    \n",
            "                                                                                                  \n",
            " conv5_block3_2_bn (BatchNormal  (None, 7, 7, 512)   2048        ['conv5_block3_2_conv[0][0]']    \n",
            " ization)                                                                                         \n",
            "                                                                                                  \n",
            " conv5_block3_2_relu (Activatio  (None, 7, 7, 512)   0           ['conv5_block3_2_bn[0][0]']      \n",
            " n)                                                                                               \n",
            "                                                                                                  \n",
            " conv5_block3_3_conv (Conv2D)   (None, 7, 7, 2048)   1050624     ['conv5_block3_2_relu[0][0]']    \n",
            "                                                                                                  \n",
            " conv5_block3_3_bn (BatchNormal  (None, 7, 7, 2048)  8192        ['conv5_block3_3_conv[0][0]']    \n",
            " ization)                                                                                         \n",
            "                                                                                                  \n",
            " conv5_block3_add (Add)         (None, 7, 7, 2048)   0           ['conv5_block2_out[0][0]',       \n",
            "                                                                  'conv5_block3_3_bn[0][0]']      \n",
            "                                                                                                  \n",
            " conv5_block3_out (Activation)  (None, 7, 7, 2048)   0           ['conv5_block3_add[0][0]']       \n",
            "                                                                                                  \n",
            " global_average_pooling2d (Glob  (None, 2048)        0           ['conv5_block3_out[0][0]']       \n",
            " alAveragePooling2D)                                                                              \n",
            "                                                                                                  \n",
            " dense (Dense)                  (None, 1024)         2098176     ['global_average_pooling2d[0][0]'\n",
            "                                                                 ]                                \n",
            "                                                                                                  \n",
            " dropout (Dropout)              (None, 1024)         0           ['dense[0][0]']                  \n",
            "                                                                                                  \n",
            " dense_1 (Dense)                (None, 512)          524800      ['dropout[0][0]']                \n",
            "                                                                                                  \n",
            " dropout_1 (Dropout)            (None, 512)          0           ['dense_1[0][0]']                \n",
            "                                                                                                  \n",
            " dense_2 (Dense)                (None, 7)            3591        ['dropout_1[0][0]']              \n",
            "                                                                                                  \n",
            "==================================================================================================\n",
            "Total params: 26,214,279\n",
            "Trainable params: 2,626,567\n",
            "Non-trainable params: 23,587,712\n",
            "__________________________________________________________________________________________________\n"
          ]
        }
      ],
      "source": [
        "# Load pre-trained ResNet50 model (with imagenet weights)\n",
        "resnet = ResNet50(weights='imagenet', include_top=False, input_shape=(224, 224, 3))\n",
        "\n",
        "#ADD regualization and dropout\n",
        "for layer in resnet.layers:\n",
        "    if isinstance(layer, tf.keras.layers.Dense):\n",
        "        layer.kernel_regularizer = regularizers.l2(0.01)\n",
        "        layer.dropout = Dropout(0.5)\n",
        "\n",
        "# Freeze all layers in the ResNet50 model\n",
        "for layer in resnet.layers:\n",
        "    layer.trainable = False\n",
        "\n",
        "# Define new output layers\n",
        "x = resnet.output\n",
        "x = GlobalAveragePooling2D()(x)\n",
        "x = Dense(1024, activation='relu', kernel_regularizer=regularizers.l2(0.01))(x)\n",
        "x = Dropout(0.5)(x)\n",
        "x = Dense(512, activation='relu', kernel_regularizer=regularizers.l2(0.01))(x)\n",
        "x = Dropout(0.5)(x)\n",
        "output = Dense(7, activation='softmax')(x)\n",
        "\n",
        "# Create a new model that includes the pre-trained ResNet50 layers and your own output layers\n",
        "model = models.Model(inputs=resnet.input, outputs=output)\n",
        "\n",
        "model.summary()"
      ]
    },
    {
      "cell_type": "code",
      "execution_count": null,
      "id": "8bb16ec3",
      "metadata": {
        "execution": {
          "iopub.execute_input": "2023-02-22T20:53:10.491028Z",
          "iopub.status.busy": "2023-02-22T20:53:10.489966Z",
          "iopub.status.idle": "2023-02-22T20:53:10.508637Z",
          "shell.execute_reply": "2023-02-22T20:53:10.507591Z"
        },
        "papermill": {
          "duration": 0.0556,
          "end_time": "2023-02-22T20:53:10.511310",
          "exception": false,
          "start_time": "2023-02-22T20:53:10.455710",
          "status": "completed"
        },
        "tags": [],
        "id": "8bb16ec3"
      },
      "outputs": [],
      "source": [
        "# Add early stopping callback\n",
        "early_stopping = EarlyStopping(monitor='val_loss', patience=5)\n",
        "\n",
        "\n",
        "# Compile the model\n",
        "model.compile(optimizer='adam', loss='categorical_crossentropy', metrics=['accuracy'])\n"
      ]
    },
    {
      "cell_type": "code",
      "execution_count": null,
      "id": "f7f47309",
      "metadata": {
        "execution": {
          "iopub.execute_input": "2023-02-22T20:53:10.582407Z",
          "iopub.status.busy": "2023-02-22T20:53:10.582021Z",
          "iopub.status.idle": "2023-02-22T21:20:34.253778Z",
          "shell.execute_reply": "2023-02-22T21:20:34.252706Z"
        },
        "papermill": {
          "duration": 1643.711428,
          "end_time": "2023-02-22T21:20:34.256755",
          "exception": false,
          "start_time": "2023-02-22T20:53:10.545327",
          "status": "completed"
        },
        "tags": [],
        "id": "f7f47309",
        "outputId": "6419c840-8369-4c9f-f0f2-928b26e42702"
      },
      "outputs": [
        {
          "name": "stdout",
          "output_type": "stream",
          "text": [
            "Epoch 1/100\n",
            "72/72 [==============================] - 22s 196ms/step - loss: 14.7108 - accuracy: 0.5068 - val_loss: 8.5997 - val_accuracy: 0.7875\n",
            "Epoch 2/100\n",
            "72/72 [==============================] - 13s 174ms/step - loss: 7.1158 - accuracy: 0.7208 - val_loss: 5.2341 - val_accuracy: 0.8118\n",
            "Epoch 3/100\n",
            "72/72 [==============================] - 12s 172ms/step - loss: 4.8372 - accuracy: 0.7580 - val_loss: 3.7803 - val_accuracy: 0.8432\n",
            "Epoch 4/100\n",
            "72/72 [==============================] - 13s 174ms/step - loss: 3.4757 - accuracy: 0.8187 - val_loss: 2.9621 - val_accuracy: 0.8397\n",
            "Epoch 5/100\n",
            "72/72 [==============================] - 13s 175ms/step - loss: 2.7972 - accuracy: 0.8121 - val_loss: 2.4208 - val_accuracy: 0.8328\n",
            "Epoch 6/100\n",
            "72/72 [==============================] - 13s 180ms/step - loss: 2.3430 - accuracy: 0.8270 - val_loss: 2.0769 - val_accuracy: 0.8502\n",
            "Epoch 7/100\n",
            "72/72 [==============================] - 13s 175ms/step - loss: 2.0701 - accuracy: 0.8327 - val_loss: 1.7289 - val_accuracy: 0.8990\n",
            "Epoch 8/100\n",
            "72/72 [==============================] - 13s 174ms/step - loss: 1.8203 - accuracy: 0.8336 - val_loss: 1.5745 - val_accuracy: 0.8815\n",
            "Epoch 9/100\n",
            "72/72 [==============================] - 13s 177ms/step - loss: 1.6062 - accuracy: 0.8519 - val_loss: 1.3611 - val_accuracy: 0.8780\n",
            "Epoch 10/100\n",
            "72/72 [==============================] - 12s 173ms/step - loss: 1.4266 - accuracy: 0.8611 - val_loss: 1.2752 - val_accuracy: 0.8815\n",
            "Epoch 11/100\n",
            "72/72 [==============================] - 12s 173ms/step - loss: 1.4435 - accuracy: 0.8283 - val_loss: 1.2646 - val_accuracy: 0.8746\n",
            "Epoch 12/100\n",
            "72/72 [==============================] - 13s 176ms/step - loss: 1.3251 - accuracy: 0.8506 - val_loss: 1.1242 - val_accuracy: 0.8955\n",
            "Epoch 13/100\n",
            "72/72 [==============================] - 13s 174ms/step - loss: 1.2722 - accuracy: 0.8379 - val_loss: 1.2113 - val_accuracy: 0.8606\n",
            "Epoch 14/100\n",
            "72/72 [==============================] - 13s 184ms/step - loss: 1.1936 - accuracy: 0.8375 - val_loss: 1.0118 - val_accuracy: 0.8885\n",
            "Epoch 15/100\n",
            "72/72 [==============================] - 12s 173ms/step - loss: 1.1324 - accuracy: 0.8414 - val_loss: 1.0170 - val_accuracy: 0.8850\n",
            "Epoch 16/100\n",
            "72/72 [==============================] - 13s 175ms/step - loss: 1.1138 - accuracy: 0.8244 - val_loss: 1.1046 - val_accuracy: 0.8188\n",
            "Epoch 17/100\n",
            "72/72 [==============================] - 12s 172ms/step - loss: 1.0843 - accuracy: 0.8519 - val_loss: 0.9555 - val_accuracy: 0.9164\n",
            "Epoch 18/100\n",
            "72/72 [==============================] - 13s 174ms/step - loss: 0.9926 - accuracy: 0.8567 - val_loss: 0.8334 - val_accuracy: 0.8955\n",
            "Epoch 19/100\n",
            "72/72 [==============================] - 13s 186ms/step - loss: 1.0634 - accuracy: 0.8283 - val_loss: 0.8863 - val_accuracy: 0.8990\n",
            "Epoch 20/100\n",
            "72/72 [==============================] - 12s 173ms/step - loss: 1.0129 - accuracy: 0.8493 - val_loss: 0.8720 - val_accuracy: 0.8780\n",
            "Epoch 21/100\n",
            "72/72 [==============================] - 13s 180ms/step - loss: 1.0316 - accuracy: 0.8427 - val_loss: 0.8698 - val_accuracy: 0.8815\n",
            "Epoch 22/100\n",
            "72/72 [==============================] - 12s 173ms/step - loss: 1.0245 - accuracy: 0.8305 - val_loss: 0.8722 - val_accuracy: 0.8815\n",
            "Epoch 23/100\n",
            "72/72 [==============================] - 13s 183ms/step - loss: 0.9737 - accuracy: 0.8362 - val_loss: 0.8176 - val_accuracy: 0.9024\n",
            "Epoch 24/100\n",
            "72/72 [==============================] - 13s 174ms/step - loss: 0.9057 - accuracy: 0.8445 - val_loss: 0.7655 - val_accuracy: 0.8990\n",
            "Epoch 25/100\n",
            "72/72 [==============================] - 13s 186ms/step - loss: 0.9470 - accuracy: 0.8401 - val_loss: 0.8155 - val_accuracy: 0.8746\n",
            "Epoch 26/100\n",
            "72/72 [==============================] - 12s 170ms/step - loss: 0.9797 - accuracy: 0.8191 - val_loss: 0.8525 - val_accuracy: 0.8815\n",
            "Epoch 27/100\n",
            "72/72 [==============================] - 13s 176ms/step - loss: 0.9351 - accuracy: 0.8484 - val_loss: 0.7899 - val_accuracy: 0.8746\n",
            "Epoch 28/100\n",
            "72/72 [==============================] - 13s 181ms/step - loss: 0.9668 - accuracy: 0.8279 - val_loss: 0.7453 - val_accuracy: 0.8815\n",
            "Epoch 29/100\n",
            "72/72 [==============================] - 13s 178ms/step - loss: 0.8022 - accuracy: 0.8689 - val_loss: 0.7005 - val_accuracy: 0.9199\n",
            "Epoch 30/100\n",
            "72/72 [==============================] - 13s 179ms/step - loss: 0.8186 - accuracy: 0.8650 - val_loss: 0.7052 - val_accuracy: 0.9164\n",
            "Epoch 31/100\n",
            "72/72 [==============================] - 12s 173ms/step - loss: 0.9881 - accuracy: 0.7982 - val_loss: 0.7826 - val_accuracy: 0.8955\n",
            "Epoch 32/100\n",
            "72/72 [==============================] - 13s 174ms/step - loss: 0.9412 - accuracy: 0.8253 - val_loss: 0.7242 - val_accuracy: 0.9199\n",
            "Epoch 33/100\n",
            "72/72 [==============================] - 13s 175ms/step - loss: 0.8649 - accuracy: 0.8423 - val_loss: 0.7144 - val_accuracy: 0.8955\n",
            "Epoch 34/100\n",
            "72/72 [==============================] - 13s 181ms/step - loss: 0.8304 - accuracy: 0.8497 - val_loss: 0.6969 - val_accuracy: 0.9024\n",
            "Epoch 35/100\n",
            "72/72 [==============================] - 13s 177ms/step - loss: 0.8702 - accuracy: 0.8314 - val_loss: 0.6876 - val_accuracy: 0.9129\n",
            "Epoch 36/100\n",
            "72/72 [==============================] - 13s 182ms/step - loss: 0.8381 - accuracy: 0.8384 - val_loss: 0.7205 - val_accuracy: 0.8885\n",
            "Epoch 37/100\n",
            "72/72 [==============================] - 13s 176ms/step - loss: 0.8757 - accuracy: 0.8375 - val_loss: 0.7037 - val_accuracy: 0.9094\n",
            "Epoch 38/100\n",
            "72/72 [==============================] - 13s 183ms/step - loss: 0.7180 - accuracy: 0.8799 - val_loss: 0.7237 - val_accuracy: 0.8502\n",
            "Epoch 39/100\n",
            "72/72 [==============================] - 13s 178ms/step - loss: 0.8238 - accuracy: 0.8563 - val_loss: 0.6515 - val_accuracy: 0.9164\n",
            "Epoch 40/100\n",
            "72/72 [==============================] - 13s 175ms/step - loss: 0.8108 - accuracy: 0.8440 - val_loss: 0.6847 - val_accuracy: 0.9164\n",
            "Epoch 41/100\n",
            "72/72 [==============================] - 12s 173ms/step - loss: 0.8749 - accuracy: 0.8458 - val_loss: 0.6720 - val_accuracy: 0.9094\n",
            "Epoch 42/100\n",
            "72/72 [==============================] - 13s 182ms/step - loss: 0.7772 - accuracy: 0.8519 - val_loss: 0.6379 - val_accuracy: 0.9094\n",
            "Epoch 43/100\n",
            "72/72 [==============================] - 12s 172ms/step - loss: 0.6910 - accuracy: 0.8790 - val_loss: 0.6134 - val_accuracy: 0.9164\n",
            "Epoch 44/100\n",
            "72/72 [==============================] - 13s 180ms/step - loss: 0.8007 - accuracy: 0.8453 - val_loss: 0.6316 - val_accuracy: 0.9303\n",
            "Epoch 45/100\n",
            "72/72 [==============================] - 13s 176ms/step - loss: 0.8579 - accuracy: 0.8257 - val_loss: 0.6543 - val_accuracy: 0.9199\n",
            "Epoch 46/100\n",
            "72/72 [==============================] - 13s 178ms/step - loss: 0.8835 - accuracy: 0.8161 - val_loss: 0.7271 - val_accuracy: 0.8920\n",
            "Epoch 47/100\n",
            "72/72 [==============================] - 12s 173ms/step - loss: 0.9321 - accuracy: 0.7990 - val_loss: 0.6930 - val_accuracy: 0.8746\n",
            "Epoch 48/100\n",
            "72/72 [==============================] - 13s 183ms/step - loss: 0.9900 - accuracy: 0.7855 - val_loss: 0.7477 - val_accuracy: 0.8780\n",
            "Epoch 49/100\n",
            "72/72 [==============================] - 12s 172ms/step - loss: 0.8685 - accuracy: 0.8235 - val_loss: 0.6865 - val_accuracy: 0.9094\n",
            "Epoch 50/100\n",
            "72/72 [==============================] - 13s 177ms/step - loss: 0.8424 - accuracy: 0.8139 - val_loss: 0.6456 - val_accuracy: 0.9199\n",
            "Epoch 51/100\n",
            "72/72 [==============================] - 13s 178ms/step - loss: 0.8431 - accuracy: 0.8292 - val_loss: 0.6837 - val_accuracy: 0.9164\n",
            "Epoch 52/100\n",
            "72/72 [==============================] - 12s 172ms/step - loss: 0.8411 - accuracy: 0.8244 - val_loss: 0.6199 - val_accuracy: 0.9024\n",
            "Epoch 53/100\n",
            "72/72 [==============================] - 14s 186ms/step - loss: 0.7854 - accuracy: 0.8362 - val_loss: 0.6162 - val_accuracy: 0.8955\n",
            "Epoch 54/100\n",
            "72/72 [==============================] - 12s 173ms/step - loss: 0.7928 - accuracy: 0.8331 - val_loss: 0.6233 - val_accuracy: 0.8920\n",
            "Epoch 55/100\n",
            "72/72 [==============================] - 13s 174ms/step - loss: 0.7843 - accuracy: 0.8414 - val_loss: 0.6398 - val_accuracy: 0.9164\n",
            "Epoch 56/100\n",
            "72/72 [==============================] - 13s 180ms/step - loss: 0.7848 - accuracy: 0.8340 - val_loss: 0.5984 - val_accuracy: 0.9164\n",
            "Epoch 57/100\n",
            "72/72 [==============================] - 13s 177ms/step - loss: 0.7939 - accuracy: 0.8209 - val_loss: 0.6541 - val_accuracy: 0.9059\n",
            "Epoch 58/100\n",
            "72/72 [==============================] - 13s 181ms/step - loss: 0.7887 - accuracy: 0.8309 - val_loss: 0.6333 - val_accuracy: 0.9164\n",
            "Epoch 59/100\n",
            "72/72 [==============================] - 13s 176ms/step - loss: 0.7888 - accuracy: 0.8244 - val_loss: 0.6434 - val_accuracy: 0.9094\n",
            "Epoch 60/100\n",
            "72/72 [==============================] - 13s 179ms/step - loss: 0.6893 - accuracy: 0.8593 - val_loss: 0.5746 - val_accuracy: 0.9338\n",
            "Epoch 61/100\n",
            "72/72 [==============================] - 13s 175ms/step - loss: 0.7258 - accuracy: 0.8576 - val_loss: 0.5968 - val_accuracy: 0.9199\n",
            "Epoch 62/100\n",
            "72/72 [==============================] - 13s 181ms/step - loss: 0.7475 - accuracy: 0.8480 - val_loss: 0.6065 - val_accuracy: 0.9199\n",
            "Epoch 63/100\n",
            "72/72 [==============================] - 12s 169ms/step - loss: 0.7722 - accuracy: 0.8331 - val_loss: 0.6110 - val_accuracy: 0.9094\n",
            "Epoch 64/100\n",
            "72/72 [==============================] - 13s 181ms/step - loss: 0.7486 - accuracy: 0.8493 - val_loss: 0.6843 - val_accuracy: 0.8920\n",
            "Epoch 65/100\n",
            "72/72 [==============================] - 12s 174ms/step - loss: 0.9346 - accuracy: 0.7973 - val_loss: 0.6294 - val_accuracy: 0.9094\n",
            "Epoch 66/100\n",
            "72/72 [==============================] - 12s 168ms/step - loss: 0.8201 - accuracy: 0.8397 - val_loss: 0.6496 - val_accuracy: 0.8815\n",
            "Epoch 67/100\n",
            "72/72 [==============================] - 13s 173ms/step - loss: 0.9309 - accuracy: 0.7942 - val_loss: 0.6688 - val_accuracy: 0.9059\n",
            "Epoch 68/100\n",
            "72/72 [==============================] - 13s 177ms/step - loss: 0.9955 - accuracy: 0.7741 - val_loss: 0.7874 - val_accuracy: 0.8711\n",
            "Epoch 69/100\n",
            "72/72 [==============================] - 12s 172ms/step - loss: 0.8656 - accuracy: 0.8095 - val_loss: 0.5969 - val_accuracy: 0.9199\n",
            "Epoch 70/100\n",
            "72/72 [==============================] - 13s 175ms/step - loss: 0.8307 - accuracy: 0.8253 - val_loss: 0.6164 - val_accuracy: 0.9303\n",
            "Epoch 71/100\n",
            "72/72 [==============================] - 12s 171ms/step - loss: 0.7813 - accuracy: 0.8384 - val_loss: 0.6406 - val_accuracy: 0.8815\n",
            "Epoch 72/100\n",
            "72/72 [==============================] - 13s 174ms/step - loss: 0.8409 - accuracy: 0.8388 - val_loss: 0.6482 - val_accuracy: 0.8780\n",
            "Epoch 73/100\n",
            "72/72 [==============================] - 13s 175ms/step - loss: 0.8884 - accuracy: 0.8073 - val_loss: 0.6447 - val_accuracy: 0.9129\n",
            "Epoch 74/100\n",
            "72/72 [==============================] - 13s 178ms/step - loss: 0.8747 - accuracy: 0.8200 - val_loss: 0.7075 - val_accuracy: 0.8780\n",
            "Epoch 75/100\n",
            "72/72 [==============================] - 13s 181ms/step - loss: 0.8527 - accuracy: 0.8314 - val_loss: 0.5911 - val_accuracy: 0.9268\n",
            "Epoch 76/100\n",
            "72/72 [==============================] - 12s 172ms/step - loss: 0.7472 - accuracy: 0.8401 - val_loss: 0.5972 - val_accuracy: 0.9059\n",
            "Epoch 77/100\n",
            "72/72 [==============================] - 13s 183ms/step - loss: 0.8218 - accuracy: 0.8274 - val_loss: 0.5849 - val_accuracy: 0.9164\n",
            "Epoch 78/100\n",
            "72/72 [==============================] - 12s 173ms/step - loss: 0.8100 - accuracy: 0.8200 - val_loss: 0.5884 - val_accuracy: 0.9129\n",
            "Epoch 79/100\n",
            "72/72 [==============================] - 13s 179ms/step - loss: 0.6945 - accuracy: 0.8449 - val_loss: 0.5523 - val_accuracy: 0.9199\n",
            "Epoch 80/100\n",
            "72/72 [==============================] - 12s 173ms/step - loss: 0.8301 - accuracy: 0.8104 - val_loss: 0.5974 - val_accuracy: 0.9129\n",
            "Epoch 81/100\n",
            "72/72 [==============================] - 13s 180ms/step - loss: 0.7911 - accuracy: 0.8231 - val_loss: 0.5672 - val_accuracy: 0.9024\n",
            "Epoch 82/100\n",
            "72/72 [==============================] - 13s 174ms/step - loss: 0.7505 - accuracy: 0.8432 - val_loss: 0.5830 - val_accuracy: 0.8920\n",
            "Epoch 83/100\n",
            "72/72 [==============================] - 13s 183ms/step - loss: 0.7482 - accuracy: 0.8344 - val_loss: 0.6128 - val_accuracy: 0.8955\n",
            "Epoch 84/100\n",
            "72/72 [==============================] - 12s 169ms/step - loss: 0.7711 - accuracy: 0.8178 - val_loss: 0.5986 - val_accuracy: 0.8920\n",
            "Epoch 85/100\n",
            "72/72 [==============================] - 13s 184ms/step - loss: 0.7307 - accuracy: 0.8445 - val_loss: 0.5983 - val_accuracy: 0.9164\n",
            "Epoch 86/100\n",
            "72/72 [==============================] - 12s 171ms/step - loss: 0.7363 - accuracy: 0.8480 - val_loss: 0.5398 - val_accuracy: 0.9199\n",
            "Epoch 87/100\n",
            "72/72 [==============================] - 13s 175ms/step - loss: 0.7497 - accuracy: 0.8528 - val_loss: 0.5613 - val_accuracy: 0.9338\n",
            "Epoch 88/100\n",
            "72/72 [==============================] - 12s 171ms/step - loss: 0.7112 - accuracy: 0.8580 - val_loss: 0.5699 - val_accuracy: 0.9373\n",
            "Epoch 89/100\n",
            "72/72 [==============================] - 13s 183ms/step - loss: 0.8328 - accuracy: 0.8274 - val_loss: 0.6597 - val_accuracy: 0.8885\n",
            "Epoch 90/100\n",
            "72/72 [==============================] - 13s 174ms/step - loss: 0.8696 - accuracy: 0.8121 - val_loss: 0.6980 - val_accuracy: 0.8955\n",
            "Epoch 91/100\n",
            "72/72 [==============================] - 13s 183ms/step - loss: 0.7887 - accuracy: 0.8161 - val_loss: 0.6022 - val_accuracy: 0.9059\n",
            "Epoch 92/100\n",
            "72/72 [==============================] - 12s 170ms/step - loss: 0.8212 - accuracy: 0.8183 - val_loss: 0.6041 - val_accuracy: 0.9164\n",
            "Epoch 93/100\n",
            "72/72 [==============================] - 13s 185ms/step - loss: 0.8642 - accuracy: 0.7934 - val_loss: 0.6577 - val_accuracy: 0.9059\n",
            "Epoch 94/100\n",
            "72/72 [==============================] - 13s 174ms/step - loss: 0.8830 - accuracy: 0.8003 - val_loss: 0.6193 - val_accuracy: 0.9094\n",
            "Epoch 95/100\n",
            "72/72 [==============================] - 13s 175ms/step - loss: 0.8290 - accuracy: 0.8200 - val_loss: 0.6049 - val_accuracy: 0.9024\n",
            "Epoch 96/100\n",
            "72/72 [==============================] - 13s 184ms/step - loss: 0.8384 - accuracy: 0.8196 - val_loss: 0.5635 - val_accuracy: 0.9338\n",
            "Epoch 97/100\n",
            "72/72 [==============================] - 13s 173ms/step - loss: 0.7748 - accuracy: 0.8204 - val_loss: 0.5829 - val_accuracy: 0.9059\n",
            "Epoch 98/100\n",
            "72/72 [==============================] - 13s 187ms/step - loss: 0.7621 - accuracy: 0.8327 - val_loss: 0.6248 - val_accuracy: 0.9024\n",
            "Epoch 99/100\n",
            "72/72 [==============================] - 13s 181ms/step - loss: 0.7539 - accuracy: 0.8322 - val_loss: 0.5885 - val_accuracy: 0.9199\n",
            "Epoch 100/100\n",
            "72/72 [==============================] - 13s 177ms/step - loss: 0.7607 - accuracy: 0.8336 - val_loss: 0.6131 - val_accuracy: 0.9129\n"
          ]
        }
      ],
      "source": [
        "# Train the model with early stopping\n",
        "history = model.fit(train_generator, epochs=100,class_weight=class_weights_dict, validation_data=val_generator)"
      ]
    },
    {
      "cell_type": "code",
      "execution_count": null,
      "id": "5f8ecd0f",
      "metadata": {
        "execution": {
          "iopub.execute_input": "2023-02-22T21:20:35.160303Z",
          "iopub.status.busy": "2023-02-22T21:20:35.159923Z",
          "iopub.status.idle": "2023-02-22T21:20:35.595530Z",
          "shell.execute_reply": "2023-02-22T21:20:35.594571Z"
        },
        "papermill": {
          "duration": 0.92442,
          "end_time": "2023-02-22T21:20:35.597580",
          "exception": false,
          "start_time": "2023-02-22T21:20:34.673160",
          "status": "completed"
        },
        "tags": [],
        "id": "5f8ecd0f",
        "outputId": "e78fe5fc-cea3-448e-9abf-6485fd074c4d"
      },
      "outputs": [
        {
          "data": {
            "image/png": "[encoded data removed]",
            "text/plain": [
              "<Figure size 640x480 with 1 Axes>"
            ]
          },
          "metadata": {},
          "output_type": "display_data"
        },
        {
          "data": {
            "image/png": "[encoded data removed]",
            "text/plain": [
              "<Figure size 640x480 with 1 Axes>"
            ]
          },
          "metadata": {},
          "output_type": "display_data"
        }
      ],
      "source": [
        "plt.plot(history.history['accuracy'])\n",
        "plt.plot(history.history['val_accuracy'])\n",
        "plt.title('model accuracy')\n",
        "plt.ylabel('accuracy')\n",
        "plt.xlabel('epoch')\n",
        "plt.legend(['train', 'val'], loc='upper left')\n",
        "plt.show()\n",
        "# summarize history for loss\n",
        "plt.plot(history.history['loss'])\n",
        "plt.plot(history.history['val_loss'])\n",
        "plt.title('model loss')\n",
        "plt.ylabel('loss')\n",
        "plt.xlabel('epoch')\n",
        "plt.legend(['train', 'val'], loc='upper left')\n",
        "plt.show()"
      ]
    },
    {
      "cell_type": "code",
      "execution_count": null,
      "id": "0a81fa79",
      "metadata": {
        "execution": {
          "iopub.execute_input": "2023-02-22T21:20:36.437664Z",
          "iopub.status.busy": "2023-02-22T21:20:36.437276Z",
          "iopub.status.idle": "2023-02-22T21:20:36.546050Z",
          "shell.execute_reply": "2023-02-22T21:20:36.544459Z"
        },
        "papermill": {
          "duration": 0.533162,
          "end_time": "2023-02-22T21:20:36.548380",
          "exception": false,
          "start_time": "2023-02-22T21:20:36.015218",
          "status": "completed"
        },
        "tags": [],
        "id": "0a81fa79",
        "outputId": "7d6afb5f-41a6-4120-89c5-dbe774640146"
      },
      "outputs": [
        {
          "name": "stdout",
          "output_type": "stream",
          "text": [
            "Found 290 images belonging to 7 classes.\n"
          ]
        }
      ],
      "source": [
        "test_dir=\"/kaggle/working/test\"\n",
        "test_datagen = ImageDataGenerator(preprocessing_function=preprocess_input)\n",
        "test_generator = test_datagen.flow_from_directory(\n",
        "    test_dir,\n",
        "    target_size=(224, 224),\n",
        "    batch_size=batch_size,\n",
        "    class_mode='categorical')"
      ]
    },
    {
      "cell_type": "code",
      "execution_count": null,
      "id": "201fbca0",
      "metadata": {
        "execution": {
          "iopub.execute_input": "2023-02-22T21:20:37.451636Z",
          "iopub.status.busy": "2023-02-22T21:20:37.450635Z",
          "iopub.status.idle": "2023-02-22T21:20:40.154187Z",
          "shell.execute_reply": "2023-02-22T21:20:40.152884Z"
        },
        "papermill": {
          "duration": 3.187813,
          "end_time": "2023-02-22T21:20:40.156982",
          "exception": false,
          "start_time": "2023-02-22T21:20:36.969169",
          "status": "completed"
        },
        "tags": [],
        "id": "201fbca0",
        "outputId": "9ccc462d-4450-49d0-9c99-fb40aa477db2"
      },
      "outputs": [
        {
          "name": "stdout",
          "output_type": "stream",
          "text": [
            "10/10 [==============================] - 2s 155ms/step - loss: 0.5549 - accuracy: 0.9276\n",
            "Test loss: 0.5549452304840088\n",
            "Test accuracy: 0.9275861978530884\n"
          ]
        }
      ],
      "source": [
        "test_loss, test_acc = model.evaluate(test_generator, steps=len(test_generator))\n",
        "print('Test loss:', test_loss)\n",
        "print('Test accuracy:', test_acc)\n"
      ]
    },
    {
      "cell_type": "code",
      "execution_count": null,
      "id": "0af4d800",
      "metadata": {
        "execution": {
          "iopub.execute_input": "2023-02-22T21:20:41.004136Z",
          "iopub.status.busy": "2023-02-22T21:20:41.003777Z",
          "iopub.status.idle": "2023-02-22T21:20:41.457240Z",
          "shell.execute_reply": "2023-02-22T21:20:41.456239Z"
        },
        "papermill": {
          "duration": 0.882163,
          "end_time": "2023-02-22T21:20:41.459701",
          "exception": false,
          "start_time": "2023-02-22T21:20:40.577538",
          "status": "completed"
        },
        "tags": [],
        "id": "0af4d800"
      },
      "outputs": [],
      "source": [
        "model.save(\"car_classifier_resnet.h5\")"
      ]
    },
    {
      "cell_type": "code",
      "execution_count": null,
      "id": "a3c1f5c2",
      "metadata": {
        "papermill": {
          "duration": 0.422251,
          "end_time": "2023-02-22T21:20:42.363176",
          "exception": false,
          "start_time": "2023-02-22T21:20:41.940925",
          "status": "completed"
        },
        "tags": [],
        "id": "a3c1f5c2"
      },
      "outputs": [],
      "source": []
    }
  ],
  "metadata": {
    "kernelspec": {
      "display_name": "Python 3",
      "language": "python",
      "name": "python3"
    },
    "language_info": {
      "codemirror_mode": {
        "name": "ipython",
        "version": 3
      },
      "file_extension": ".py",
      "mimetype": "text/x-python",
      "name": "python",
      "nbconvert_exporter": "python",
      "pygments_lexer": "ipython3",
      "version": "3.7.12"
    },
    "papermill": {
      "default_parameters": {},
      "duration": 1695.451825,
      "end_time": "2023-02-22T21:20:46.258800",
      "environment_variables": {},
      "exception": null,
      "input_path": "__notebook__.ipynb",
      "output_path": "__notebook__.ipynb",
      "parameters": {},
      "start_time": "2023-02-22T20:52:30.806975",
      "version": "2.3.4"
    },
    "colab": {
      "provenance": []
    }
  },
  "nbformat": 4,
  "nbformat_minor": 5
}